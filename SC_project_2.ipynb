{
 "cells": [
  {
   "cell_type": "code",
   "execution_count": 3,
   "metadata": {
    "id": "hXH01yKdNFMM"
   },
   "outputs": [],
   "source": [
    "import numpy as np\n",
    "import pandas as pd\n",
    "import matplotlib.pyplot as plt\n",
    "import seaborn as sns\n",
    "import warnings\n",
    "warnings.filterwarnings('ignore')"
   ]
  },
  {
   "cell_type": "code",
   "execution_count": null,
   "metadata": {
    "id": "0mfFnFyCTh18"
   },
   "outputs": [],
   "source": [
    "# from google.colab import drive\n",
    "# drive.mount('/content/drive')"
   ]
  },
  {
   "cell_type": "code",
   "execution_count": 4,
   "metadata": {
    "colab": {
     "base_uri": "https://localhost:8080/",
     "height": 226
    },
    "id": "pF42-Z7sNIwL",
    "outputId": "46106278-ad6d-4551-a801-166e025a4dbb"
   },
   "outputs": [
    {
     "data": {
      "text/html": [
       "<div>\n",
       "<style scoped>\n",
       "    .dataframe tbody tr th:only-of-type {\n",
       "        vertical-align: middle;\n",
       "    }\n",
       "\n",
       "    .dataframe tbody tr th {\n",
       "        vertical-align: top;\n",
       "    }\n",
       "\n",
       "    .dataframe thead th {\n",
       "        text-align: right;\n",
       "    }\n",
       "</style>\n",
       "<table border=\"1\" class=\"dataframe\">\n",
       "  <thead>\n",
       "    <tr style=\"text-align: right;\">\n",
       "      <th></th>\n",
       "      <th>occupation</th>\n",
       "      <th>age</th>\n",
       "      <th>education_level</th>\n",
       "      <th>marital_status</th>\n",
       "      <th>communication_channel</th>\n",
       "      <th>call_month</th>\n",
       "      <th>call_day</th>\n",
       "      <th>call_duration</th>\n",
       "      <th>call_frequency</th>\n",
       "      <th>previous_campaign_outcome</th>\n",
       "      <th>conversion_status</th>\n",
       "    </tr>\n",
       "  </thead>\n",
       "  <tbody>\n",
       "    <tr>\n",
       "      <th>0</th>\n",
       "      <td>service_worker</td>\n",
       "      <td>37</td>\n",
       "      <td>high_school</td>\n",
       "      <td>single</td>\n",
       "      <td>unidentified</td>\n",
       "      <td>June</td>\n",
       "      <td>3</td>\n",
       "      <td>1045</td>\n",
       "      <td>3</td>\n",
       "      <td>unidentified</td>\n",
       "      <td>1</td>\n",
       "    </tr>\n",
       "    <tr>\n",
       "      <th>1</th>\n",
       "      <td>technical_specialist</td>\n",
       "      <td>36</td>\n",
       "      <td>college</td>\n",
       "      <td>married</td>\n",
       "      <td>mobile</td>\n",
       "      <td>January</td>\n",
       "      <td>29</td>\n",
       "      <td>313</td>\n",
       "      <td>1</td>\n",
       "      <td>unsuccessful</td>\n",
       "      <td>1</td>\n",
       "    </tr>\n",
       "    <tr>\n",
       "      <th>2</th>\n",
       "      <td>service_worker</td>\n",
       "      <td>30</td>\n",
       "      <td>college</td>\n",
       "      <td>single</td>\n",
       "      <td>mobile</td>\n",
       "      <td>August</td>\n",
       "      <td>21</td>\n",
       "      <td>1532</td>\n",
       "      <td>2</td>\n",
       "      <td>unidentified</td>\n",
       "      <td>1</td>\n",
       "    </tr>\n",
       "    <tr>\n",
       "      <th>3</th>\n",
       "      <td>executive</td>\n",
       "      <td>35</td>\n",
       "      <td>college</td>\n",
       "      <td>single</td>\n",
       "      <td>mobile</td>\n",
       "      <td>September</td>\n",
       "      <td>4</td>\n",
       "      <td>434</td>\n",
       "      <td>2</td>\n",
       "      <td>other_outcome</td>\n",
       "      <td>1</td>\n",
       "    </tr>\n",
       "    <tr>\n",
       "      <th>4</th>\n",
       "      <td>service_worker</td>\n",
       "      <td>40</td>\n",
       "      <td>high_school</td>\n",
       "      <td>divorced</td>\n",
       "      <td>mobile</td>\n",
       "      <td>February</td>\n",
       "      <td>2</td>\n",
       "      <td>531</td>\n",
       "      <td>1</td>\n",
       "      <td>successful</td>\n",
       "      <td>1</td>\n",
       "    </tr>\n",
       "  </tbody>\n",
       "</table>\n",
       "</div>"
      ],
      "text/plain": [
       "             occupation  age education_level marital_status  \\\n",
       "0        service_worker   37     high_school         single   \n",
       "1  technical_specialist   36         college        married   \n",
       "2        service_worker   30         college         single   \n",
       "3             executive   35         college         single   \n",
       "4        service_worker   40     high_school       divorced   \n",
       "\n",
       "  communication_channel call_month  call_day  call_duration  call_frequency  \\\n",
       "0          unidentified       June         3           1045               3   \n",
       "1                mobile    January        29            313               1   \n",
       "2                mobile     August        21           1532               2   \n",
       "3                mobile  September         4            434               2   \n",
       "4                mobile   February         2            531               1   \n",
       "\n",
       "  previous_campaign_outcome  conversion_status  \n",
       "0              unidentified                  1  \n",
       "1              unsuccessful                  1  \n",
       "2              unidentified                  1  \n",
       "3             other_outcome                  1  \n",
       "4                successful                  1  "
      ]
     },
     "execution_count": 4,
     "metadata": {},
     "output_type": "execute_result"
    }
   ],
   "source": [
    "df = pd.read_csv('balanced_policy.csv')\n",
    "df.head()"
   ]
  },
  {
   "cell_type": "code",
   "execution_count": 5,
   "metadata": {
    "colab": {
     "base_uri": "https://localhost:8080/",
     "height": 300
    },
    "id": "Z-NPtWVpNRXr",
    "outputId": "fec51d3e-5672-486e-b833-7fdd91abb799"
   },
   "outputs": [
    {
     "data": {
      "text/html": [
       "<div>\n",
       "<style scoped>\n",
       "    .dataframe tbody tr th:only-of-type {\n",
       "        vertical-align: middle;\n",
       "    }\n",
       "\n",
       "    .dataframe tbody tr th {\n",
       "        vertical-align: top;\n",
       "    }\n",
       "\n",
       "    .dataframe thead th {\n",
       "        text-align: right;\n",
       "    }\n",
       "</style>\n",
       "<table border=\"1\" class=\"dataframe\">\n",
       "  <thead>\n",
       "    <tr style=\"text-align: right;\">\n",
       "      <th></th>\n",
       "      <th>age</th>\n",
       "      <th>call_day</th>\n",
       "      <th>call_duration</th>\n",
       "      <th>call_frequency</th>\n",
       "      <th>conversion_status</th>\n",
       "    </tr>\n",
       "  </thead>\n",
       "  <tbody>\n",
       "    <tr>\n",
       "      <th>count</th>\n",
       "      <td>10578.000000</td>\n",
       "      <td>10578.000000</td>\n",
       "      <td>10578.000000</td>\n",
       "      <td>10578.000000</td>\n",
       "      <td>10578.000000</td>\n",
       "    </tr>\n",
       "    <tr>\n",
       "      <th>mean</th>\n",
       "      <td>41.309699</td>\n",
       "      <td>15.470410</td>\n",
       "      <td>375.755058</td>\n",
       "      <td>2.476839</td>\n",
       "      <td>0.500000</td>\n",
       "    </tr>\n",
       "    <tr>\n",
       "      <th>std</th>\n",
       "      <td>11.969460</td>\n",
       "      <td>8.419517</td>\n",
       "      <td>350.803895</td>\n",
       "      <td>2.653990</td>\n",
       "      <td>0.500024</td>\n",
       "    </tr>\n",
       "    <tr>\n",
       "      <th>min</th>\n",
       "      <td>18.000000</td>\n",
       "      <td>1.000000</td>\n",
       "      <td>2.000000</td>\n",
       "      <td>1.000000</td>\n",
       "      <td>0.000000</td>\n",
       "    </tr>\n",
       "    <tr>\n",
       "      <th>25%</th>\n",
       "      <td>32.000000</td>\n",
       "      <td>8.000000</td>\n",
       "      <td>140.000000</td>\n",
       "      <td>1.000000</td>\n",
       "      <td>0.000000</td>\n",
       "    </tr>\n",
       "    <tr>\n",
       "      <th>50%</th>\n",
       "      <td>39.000000</td>\n",
       "      <td>15.000000</td>\n",
       "      <td>255.000000</td>\n",
       "      <td>2.000000</td>\n",
       "      <td>0.500000</td>\n",
       "    </tr>\n",
       "    <tr>\n",
       "      <th>75%</th>\n",
       "      <td>49.000000</td>\n",
       "      <td>21.000000</td>\n",
       "      <td>500.000000</td>\n",
       "      <td>3.000000</td>\n",
       "      <td>1.000000</td>\n",
       "    </tr>\n",
       "    <tr>\n",
       "      <th>max</th>\n",
       "      <td>95.000000</td>\n",
       "      <td>31.000000</td>\n",
       "      <td>3881.000000</td>\n",
       "      <td>43.000000</td>\n",
       "      <td>1.000000</td>\n",
       "    </tr>\n",
       "  </tbody>\n",
       "</table>\n",
       "</div>"
      ],
      "text/plain": [
       "                age      call_day  call_duration  call_frequency  \\\n",
       "count  10578.000000  10578.000000   10578.000000    10578.000000   \n",
       "mean      41.309699     15.470410     375.755058        2.476839   \n",
       "std       11.969460      8.419517     350.803895        2.653990   \n",
       "min       18.000000      1.000000       2.000000        1.000000   \n",
       "25%       32.000000      8.000000     140.000000        1.000000   \n",
       "50%       39.000000     15.000000     255.000000        2.000000   \n",
       "75%       49.000000     21.000000     500.000000        3.000000   \n",
       "max       95.000000     31.000000    3881.000000       43.000000   \n",
       "\n",
       "       conversion_status  \n",
       "count       10578.000000  \n",
       "mean            0.500000  \n",
       "std             0.500024  \n",
       "min             0.000000  \n",
       "25%             0.000000  \n",
       "50%             0.500000  \n",
       "75%             1.000000  \n",
       "max             1.000000  "
      ]
     },
     "execution_count": 5,
     "metadata": {},
     "output_type": "execute_result"
    }
   ],
   "source": [
    "df.describe()"
   ]
  },
  {
   "cell_type": "code",
   "execution_count": 6,
   "metadata": {
    "colab": {
     "base_uri": "https://localhost:8080/"
    },
    "id": "NsBHq8p4NUJv",
    "outputId": "46ce2fd9-e4e2-4d49-e8f0-cbbbaf50af91"
   },
   "outputs": [
    {
     "data": {
      "text/plain": [
       "count    10578.000000\n",
       "mean       375.755058\n",
       "std        350.803895\n",
       "min          2.000000\n",
       "25%        140.000000\n",
       "50%        255.000000\n",
       "75%        500.000000\n",
       "max       3881.000000\n",
       "Name: call_duration, dtype: float64"
      ]
     },
     "execution_count": 6,
     "metadata": {},
     "output_type": "execute_result"
    }
   ],
   "source": [
    "df.call_duration.describe()"
   ]
  },
  {
   "cell_type": "code",
   "execution_count": 7,
   "metadata": {
    "colab": {
     "base_uri": "https://localhost:8080/"
    },
    "id": "vEwnH8HINVd9",
    "outputId": "4aa3ded9-f690-49ff-9ed1-fc496191c044"
   },
   "outputs": [
    {
     "data": {
      "text/plain": [
       "conversion_status\n",
       "1    5289\n",
       "0    5289\n",
       "Name: count, dtype: int64"
      ]
     },
     "execution_count": 7,
     "metadata": {},
     "output_type": "execute_result"
    }
   ],
   "source": [
    "df.conversion_status.value_counts()"
   ]
  },
  {
   "cell_type": "code",
   "execution_count": 8,
   "metadata": {
    "colab": {
     "base_uri": "https://localhost:8080/"
    },
    "id": "TLxX4nJBNXH2",
    "outputId": "117d63ef-fb4c-4c77-f882-75d2e09c5940"
   },
   "outputs": [
    {
     "data": {
      "text/plain": [
       "occupation\n",
       "executive               2405\n",
       "manual_worker           1868\n",
       "technical_specialist    1703\n",
       "administrative_staff    1235\n",
       "service_worker           856\n",
       "retired_worker           760\n",
       "jobless                  375\n",
       "independent_worker       370\n",
       "student                  356\n",
       "business_owner           335\n",
       "domestic_worker          253\n",
       "unidentified              62\n",
       "Name: count, dtype: int64"
      ]
     },
     "execution_count": 8,
     "metadata": {},
     "output_type": "execute_result"
    }
   ],
   "source": [
    "df.occupation.value_counts()"
   ]
  },
  {
   "cell_type": "code",
   "execution_count": 10,
   "metadata": {
    "colab": {
     "base_uri": "https://localhost:8080/",
     "height": 457
    },
    "id": "5WVmv8bPNZc7",
    "outputId": "42c0bacd-dcf0-4041-802f-2df87548c8d7"
   },
   "outputs": [
    {
     "data": {
      "text/html": [
       "<div>\n",
       "<style scoped>\n",
       "    .dataframe tbody tr th:only-of-type {\n",
       "        vertical-align: middle;\n",
       "    }\n",
       "\n",
       "    .dataframe tbody tr th {\n",
       "        vertical-align: top;\n",
       "    }\n",
       "\n",
       "    .dataframe thead th {\n",
       "        text-align: right;\n",
       "    }\n",
       "</style>\n",
       "<table border=\"1\" class=\"dataframe\">\n",
       "  <thead>\n",
       "    <tr style=\"text-align: right;\">\n",
       "      <th>conversion_status</th>\n",
       "      <th>0</th>\n",
       "      <th>1</th>\n",
       "    </tr>\n",
       "    <tr>\n",
       "      <th>occupation</th>\n",
       "      <th></th>\n",
       "      <th></th>\n",
       "    </tr>\n",
       "  </thead>\n",
       "  <tbody>\n",
       "    <tr>\n",
       "      <th>administrative_staff</th>\n",
       "      <td>604</td>\n",
       "      <td>631</td>\n",
       "    </tr>\n",
       "    <tr>\n",
       "      <th>business_owner</th>\n",
       "      <td>212</td>\n",
       "      <td>123</td>\n",
       "    </tr>\n",
       "    <tr>\n",
       "      <th>domestic_worker</th>\n",
       "      <td>144</td>\n",
       "      <td>109</td>\n",
       "    </tr>\n",
       "    <tr>\n",
       "      <th>executive</th>\n",
       "      <td>1104</td>\n",
       "      <td>1301</td>\n",
       "    </tr>\n",
       "    <tr>\n",
       "      <th>independent_worker</th>\n",
       "      <td>183</td>\n",
       "      <td>187</td>\n",
       "    </tr>\n",
       "    <tr>\n",
       "      <th>jobless</th>\n",
       "      <td>173</td>\n",
       "      <td>202</td>\n",
       "    </tr>\n",
       "    <tr>\n",
       "      <th>manual_worker</th>\n",
       "      <td>1160</td>\n",
       "      <td>708</td>\n",
       "    </tr>\n",
       "    <tr>\n",
       "      <th>retired_worker</th>\n",
       "      <td>244</td>\n",
       "      <td>516</td>\n",
       "    </tr>\n",
       "    <tr>\n",
       "      <th>service_worker</th>\n",
       "      <td>487</td>\n",
       "      <td>369</td>\n",
       "    </tr>\n",
       "    <tr>\n",
       "      <th>student</th>\n",
       "      <td>87</td>\n",
       "      <td>269</td>\n",
       "    </tr>\n",
       "    <tr>\n",
       "      <th>technical_specialist</th>\n",
       "      <td>863</td>\n",
       "      <td>840</td>\n",
       "    </tr>\n",
       "    <tr>\n",
       "      <th>unidentified</th>\n",
       "      <td>28</td>\n",
       "      <td>34</td>\n",
       "    </tr>\n",
       "  </tbody>\n",
       "</table>\n",
       "</div>"
      ],
      "text/plain": [
       "conversion_status        0     1\n",
       "occupation                      \n",
       "administrative_staff   604   631\n",
       "business_owner         212   123\n",
       "domestic_worker        144   109\n",
       "executive             1104  1301\n",
       "independent_worker     183   187\n",
       "jobless                173   202\n",
       "manual_worker         1160   708\n",
       "retired_worker         244   516\n",
       "service_worker         487   369\n",
       "student                 87   269\n",
       "technical_specialist   863   840\n",
       "unidentified            28    34"
      ]
     },
     "execution_count": 10,
     "metadata": {},
     "output_type": "execute_result"
    }
   ],
   "source": [
    "pd.crosstab(index=df[\"occupation\"], columns = df[\"conversion_status\"])"
   ]
  },
  {
   "cell_type": "code",
   "execution_count": 11,
   "metadata": {
    "id": "bmN3_ncQNbkq"
   },
   "outputs": [],
   "source": [
    "df[\"Age Group\"] = pd.cut(df[\"age\"], bins=5, labels=[\"18-30\", \"31-55\", \"55-70\", \"70-90\", \"90-More\"])"
   ]
  },
  {
   "cell_type": "code",
   "execution_count": 12,
   "metadata": {
    "colab": {
     "base_uri": "https://localhost:8080/"
    },
    "id": "Fd5JK_mGNc7P",
    "outputId": "ba2a4f3d-35a2-46cf-c14b-dbd2f3a38533"
   },
   "outputs": [
    {
     "data": {
      "text/plain": [
       "occupation            Age Group\n",
       "administrative_staff  31-55         577\n",
       "                      18-30         415\n",
       "                      55-70         239\n",
       "                      70-90           4\n",
       "                      90-More         0\n",
       "business_owner        31-55         173\n",
       "                      55-70         101\n",
       "                      18-30          58\n",
       "                      70-90           2\n",
       "                      90-More         1\n",
       "domestic_worker       31-55         109\n",
       "                      55-70          98\n",
       "                      18-30          31\n",
       "                      70-90          11\n",
       "                      90-More         4\n",
       "executive             31-55        1144\n",
       "                      18-30         725\n",
       "                      55-70         519\n",
       "                      70-90          17\n",
       "                      90-More         0\n",
       "independent_worker    31-55         169\n",
       "                      18-30         129\n",
       "                      55-70          66\n",
       "                      70-90           6\n",
       "                      90-More         0\n",
       "jobless               31-55         176\n",
       "                      18-30         103\n",
       "                      55-70          93\n",
       "                      70-90           3\n",
       "                      90-More         0\n",
       "manual_worker         31-55         967\n",
       "                      18-30         550\n",
       "                      55-70         351\n",
       "                      70-90           0\n",
       "                      90-More         0\n",
       "retired_worker        55-70         394\n",
       "                      70-90         291\n",
       "                      90-More        56\n",
       "                      31-55          18\n",
       "                      18-30           1\n",
       "service_worker        31-55         399\n",
       "                      18-30         317\n",
       "                      55-70         140\n",
       "                      70-90           0\n",
       "                      90-More         0\n",
       "student               18-30         329\n",
       "                      31-55          27\n",
       "                      55-70           0\n",
       "                      70-90           0\n",
       "                      90-More         0\n",
       "technical_specialist  31-55         797\n",
       "                      18-30         569\n",
       "                      55-70         330\n",
       "                      70-90           7\n",
       "                      90-More         0\n",
       "unidentified          55-70          28\n",
       "                      31-55          23\n",
       "                      18-30           7\n",
       "                      70-90           4\n",
       "                      90-More         0\n",
       "Name: count, dtype: int64"
      ]
     },
     "execution_count": 12,
     "metadata": {},
     "output_type": "execute_result"
    }
   ],
   "source": [
    "df.groupby('occupation')['Age Group'].value_counts()"
   ]
  },
  {
   "cell_type": "code",
   "execution_count": 13,
   "metadata": {
    "colab": {
     "base_uri": "https://localhost:8080/",
     "height": 457
    },
    "id": "fT3EcJfeNfaN",
    "outputId": "90005263-b673-400d-bebe-f5d550abb900"
   },
   "outputs": [
    {
     "data": {
      "text/html": [
       "<div>\n",
       "<style scoped>\n",
       "    .dataframe tbody tr th:only-of-type {\n",
       "        vertical-align: middle;\n",
       "    }\n",
       "\n",
       "    .dataframe tbody tr th {\n",
       "        vertical-align: top;\n",
       "    }\n",
       "\n",
       "    .dataframe thead th {\n",
       "        text-align: right;\n",
       "    }\n",
       "</style>\n",
       "<table border=\"1\" class=\"dataframe\">\n",
       "  <thead>\n",
       "    <tr style=\"text-align: right;\">\n",
       "      <th>Age Group</th>\n",
       "      <th>18-30</th>\n",
       "      <th>31-55</th>\n",
       "      <th>55-70</th>\n",
       "      <th>70-90</th>\n",
       "      <th>90-More</th>\n",
       "    </tr>\n",
       "    <tr>\n",
       "      <th>occupation</th>\n",
       "      <th></th>\n",
       "      <th></th>\n",
       "      <th></th>\n",
       "      <th></th>\n",
       "      <th></th>\n",
       "    </tr>\n",
       "  </thead>\n",
       "  <tbody>\n",
       "    <tr>\n",
       "      <th>administrative_staff</th>\n",
       "      <td>415</td>\n",
       "      <td>577</td>\n",
       "      <td>239</td>\n",
       "      <td>4</td>\n",
       "      <td>0</td>\n",
       "    </tr>\n",
       "    <tr>\n",
       "      <th>business_owner</th>\n",
       "      <td>58</td>\n",
       "      <td>173</td>\n",
       "      <td>101</td>\n",
       "      <td>2</td>\n",
       "      <td>1</td>\n",
       "    </tr>\n",
       "    <tr>\n",
       "      <th>domestic_worker</th>\n",
       "      <td>31</td>\n",
       "      <td>109</td>\n",
       "      <td>98</td>\n",
       "      <td>11</td>\n",
       "      <td>4</td>\n",
       "    </tr>\n",
       "    <tr>\n",
       "      <th>executive</th>\n",
       "      <td>725</td>\n",
       "      <td>1144</td>\n",
       "      <td>519</td>\n",
       "      <td>17</td>\n",
       "      <td>0</td>\n",
       "    </tr>\n",
       "    <tr>\n",
       "      <th>independent_worker</th>\n",
       "      <td>129</td>\n",
       "      <td>169</td>\n",
       "      <td>66</td>\n",
       "      <td>6</td>\n",
       "      <td>0</td>\n",
       "    </tr>\n",
       "    <tr>\n",
       "      <th>jobless</th>\n",
       "      <td>103</td>\n",
       "      <td>176</td>\n",
       "      <td>93</td>\n",
       "      <td>3</td>\n",
       "      <td>0</td>\n",
       "    </tr>\n",
       "    <tr>\n",
       "      <th>manual_worker</th>\n",
       "      <td>550</td>\n",
       "      <td>967</td>\n",
       "      <td>351</td>\n",
       "      <td>0</td>\n",
       "      <td>0</td>\n",
       "    </tr>\n",
       "    <tr>\n",
       "      <th>retired_worker</th>\n",
       "      <td>1</td>\n",
       "      <td>18</td>\n",
       "      <td>394</td>\n",
       "      <td>291</td>\n",
       "      <td>56</td>\n",
       "    </tr>\n",
       "    <tr>\n",
       "      <th>service_worker</th>\n",
       "      <td>317</td>\n",
       "      <td>399</td>\n",
       "      <td>140</td>\n",
       "      <td>0</td>\n",
       "      <td>0</td>\n",
       "    </tr>\n",
       "    <tr>\n",
       "      <th>student</th>\n",
       "      <td>329</td>\n",
       "      <td>27</td>\n",
       "      <td>0</td>\n",
       "      <td>0</td>\n",
       "      <td>0</td>\n",
       "    </tr>\n",
       "    <tr>\n",
       "      <th>technical_specialist</th>\n",
       "      <td>569</td>\n",
       "      <td>797</td>\n",
       "      <td>330</td>\n",
       "      <td>7</td>\n",
       "      <td>0</td>\n",
       "    </tr>\n",
       "    <tr>\n",
       "      <th>unidentified</th>\n",
       "      <td>7</td>\n",
       "      <td>23</td>\n",
       "      <td>28</td>\n",
       "      <td>4</td>\n",
       "      <td>0</td>\n",
       "    </tr>\n",
       "  </tbody>\n",
       "</table>\n",
       "</div>"
      ],
      "text/plain": [
       "Age Group             18-30  31-55  55-70  70-90  90-More\n",
       "occupation                                               \n",
       "administrative_staff    415    577    239      4        0\n",
       "business_owner           58    173    101      2        1\n",
       "domestic_worker          31    109     98     11        4\n",
       "executive               725   1144    519     17        0\n",
       "independent_worker      129    169     66      6        0\n",
       "jobless                 103    176     93      3        0\n",
       "manual_worker           550    967    351      0        0\n",
       "retired_worker            1     18    394    291       56\n",
       "service_worker          317    399    140      0        0\n",
       "student                 329     27      0      0        0\n",
       "technical_specialist    569    797    330      7        0\n",
       "unidentified              7     23     28      4        0"
      ]
     },
     "execution_count": 13,
     "metadata": {},
     "output_type": "execute_result"
    }
   ],
   "source": [
    "pd.crosstab(index=df[\"occupation\"], columns = df[\"Age Group\"])"
   ]
  },
  {
   "cell_type": "code",
   "execution_count": 14,
   "metadata": {
    "colab": {
     "base_uri": "https://localhost:8080/",
     "height": 397
    },
    "id": "aKP2eo9ANhTT",
    "outputId": "19e9b354-af77-4e5d-fad0-a9ab92ff0c27"
   },
   "outputs": [
    {
     "data": {
      "image/png": "[encoded data removed]",
      "text/plain": [
       "<Figure size 1000x600 with 1 Axes>"
      ]
     },
     "metadata": {},
     "output_type": "display_data"
    }
   ],
   "source": [
    "plt.figure(figsize=(10, 6))\n",
    "sns.countplot(x='Age Group', hue='marital_status', data=df, palette='coolwarm')\n",
    "plt.title('Distribution of Marital Statuses Across Age Groups')\n",
    "plt.xlabel('Age Group')\n",
    "plt.ylabel('Count')\n",
    "plt.xticks(rotation=45)\n",
    "plt.legend(title='Marital Status')\n",
    "plt.tight_layout()\n",
    "plt.show()"
   ]
  },
  {
   "cell_type": "code",
   "execution_count": 15,
   "metadata": {
    "colab": {
     "base_uri": "https://localhost:8080/",
     "height": 412
    },
    "id": "ke6TGfn8NkL5",
    "outputId": "01fd1500-162d-4d1d-c7e0-cbd063371d0c"
   },
   "outputs": [
    {
     "data": {
      "image/png": "[encoded data removed]",
      "text/plain": [
       "<Figure size 1300x600 with 1 Axes>"
      ]
     },
     "metadata": {},
     "output_type": "display_data"
    }
   ],
   "source": [
    "#sns.barplot(x=occupation.index, y=Age Group.values, hue=occupation.index)\n",
    "plt.figure(figsize=(13,6))\n",
    "sns.countplot(df,x='occupation', hue='Age Group')\n",
    "plt.xticks(rotation=90)\n",
    "plt.show()"
   ]
  },
  {
   "cell_type": "code",
   "execution_count": 16,
   "metadata": {
    "id": "84pJD0JhNnje"
   },
   "outputs": [],
   "source": [
    "df = df.drop(columns='Age Group')"
   ]
  },
  {
   "cell_type": "code",
   "execution_count": 17,
   "metadata": {
    "colab": {
     "base_uri": "https://localhost:8080/",
     "height": 206
    },
    "id": "yjcdZ5hiNpPn",
    "outputId": "be07c2b1-561d-4b16-9784-70c330d5e8a8"
   },
   "outputs": [
    {
     "data": {
      "text/html": [
       "<div>\n",
       "<style scoped>\n",
       "    .dataframe tbody tr th:only-of-type {\n",
       "        vertical-align: middle;\n",
       "    }\n",
       "\n",
       "    .dataframe tbody tr th {\n",
       "        vertical-align: top;\n",
       "    }\n",
       "\n",
       "    .dataframe thead th {\n",
       "        text-align: right;\n",
       "    }\n",
       "</style>\n",
       "<table border=\"1\" class=\"dataframe\">\n",
       "  <thead>\n",
       "    <tr style=\"text-align: right;\">\n",
       "      <th>conversion_status</th>\n",
       "      <th>0</th>\n",
       "      <th>1</th>\n",
       "    </tr>\n",
       "    <tr>\n",
       "      <th>education_level</th>\n",
       "      <th></th>\n",
       "      <th></th>\n",
       "    </tr>\n",
       "  </thead>\n",
       "  <tbody>\n",
       "    <tr>\n",
       "      <th>college</th>\n",
       "      <td>1546</td>\n",
       "      <td>1996</td>\n",
       "    </tr>\n",
       "    <tr>\n",
       "      <th>elementary_school</th>\n",
       "      <td>821</td>\n",
       "      <td>591</td>\n",
       "    </tr>\n",
       "    <tr>\n",
       "      <th>high_school</th>\n",
       "      <td>2698</td>\n",
       "      <td>2450</td>\n",
       "    </tr>\n",
       "    <tr>\n",
       "      <th>unidentified</th>\n",
       "      <td>224</td>\n",
       "      <td>252</td>\n",
       "    </tr>\n",
       "  </tbody>\n",
       "</table>\n",
       "</div>"
      ],
      "text/plain": [
       "conversion_status     0     1\n",
       "education_level              \n",
       "college            1546  1996\n",
       "elementary_school   821   591\n",
       "high_school        2698  2450\n",
       "unidentified        224   252"
      ]
     },
     "execution_count": 17,
     "metadata": {},
     "output_type": "execute_result"
    }
   ],
   "source": [
    "pd.crosstab(index=df[\"education_level\"], columns = df[\"conversion_status\"])"
   ]
  },
  {
   "cell_type": "code",
   "execution_count": 18,
   "metadata": {
    "colab": {
     "base_uri": "https://localhost:8080/",
     "height": 648
    },
    "id": "r5yvyuVHNq9w",
    "outputId": "219863c6-a3b6-4ac7-cddf-9a7f8f95e9c0"
   },
   "outputs": [
    {
     "data": {
      "text/plain": [
       "<Axes: xlabel='conversion_status', ylabel='count'>"
      ]
     },
     "execution_count": 18,
     "metadata": {},
     "output_type": "execute_result"
    },
    {
     "data": {
      "image/png": "[encoded data removed]",
      "text/plain": [
       "<Figure size 640x480 with 1 Axes>"
      ]
     },
     "metadata": {},
     "output_type": "display_data"
    }
   ],
   "source": [
    "sns.countplot(df, x='conversion_status',hue='education_level' )"
   ]
  },
  {
   "cell_type": "code",
   "execution_count": 19,
   "metadata": {
    "colab": {
     "base_uri": "https://localhost:8080/",
     "height": 175
    },
    "id": "IfDVVSq1NtAZ",
    "outputId": "5e49608d-f2b8-4e0a-e53f-2634f3b33915"
   },
   "outputs": [
    {
     "data": {
      "text/html": [
       "<div>\n",
       "<style scoped>\n",
       "    .dataframe tbody tr th:only-of-type {\n",
       "        vertical-align: middle;\n",
       "    }\n",
       "\n",
       "    .dataframe tbody tr th {\n",
       "        vertical-align: top;\n",
       "    }\n",
       "\n",
       "    .dataframe thead th {\n",
       "        text-align: right;\n",
       "    }\n",
       "</style>\n",
       "<table border=\"1\" class=\"dataframe\">\n",
       "  <thead>\n",
       "    <tr style=\"text-align: right;\">\n",
       "      <th>communication_channel</th>\n",
       "      <th>landline</th>\n",
       "      <th>mobile</th>\n",
       "      <th>unidentified</th>\n",
       "    </tr>\n",
       "    <tr>\n",
       "      <th>marital_status</th>\n",
       "      <th></th>\n",
       "      <th></th>\n",
       "      <th></th>\n",
       "    </tr>\n",
       "  </thead>\n",
       "  <tbody>\n",
       "    <tr>\n",
       "      <th>divorced</th>\n",
       "      <td>84</td>\n",
       "      <td>870</td>\n",
       "      <td>304</td>\n",
       "    </tr>\n",
       "    <tr>\n",
       "      <th>married</th>\n",
       "      <td>486</td>\n",
       "      <td>4256</td>\n",
       "      <td>1271</td>\n",
       "    </tr>\n",
       "    <tr>\n",
       "      <th>single</th>\n",
       "      <td>140</td>\n",
       "      <td>2563</td>\n",
       "      <td>604</td>\n",
       "    </tr>\n",
       "  </tbody>\n",
       "</table>\n",
       "</div>"
      ],
      "text/plain": [
       "communication_channel  landline  mobile  unidentified\n",
       "marital_status                                       \n",
       "divorced                     84     870           304\n",
       "married                     486    4256          1271\n",
       "single                      140    2563           604"
      ]
     },
     "execution_count": 19,
     "metadata": {},
     "output_type": "execute_result"
    }
   ],
   "source": [
    "pd.crosstab(index=df['marital_status'], columns=df['communication_channel'])"
   ]
  },
  {
   "cell_type": "code",
   "execution_count": 20,
   "metadata": {
    "colab": {
     "base_uri": "https://localhost:8080/",
     "height": 647
    },
    "id": "FkDZW38INupa",
    "outputId": "c2e81b4e-7b12-4415-c2f1-d29d01e5143e"
   },
   "outputs": [
    {
     "data": {
      "text/plain": [
       "<Axes: xlabel='marital_status', ylabel='count'>"
      ]
     },
     "execution_count": 20,
     "metadata": {},
     "output_type": "execute_result"
    },
    {
     "data": {
      "image/png": "[encoded data removed]",
      "text/plain": [
       "<Figure size 640x480 with 1 Axes>"
      ]
     },
     "metadata": {},
     "output_type": "display_data"
    }
   ],
   "source": [
    "sns.countplot(df, x='marital_status', hue='communication_channel')"
   ]
  },
  {
   "cell_type": "code",
   "execution_count": 21,
   "metadata": {
    "colab": {
     "base_uri": "https://localhost:8080/",
     "height": 1000
    },
    "id": "ABXRmHorNwyA",
    "outputId": "0f2f4252-b9bf-4a8c-f06c-a35188d6ab0a"
   },
   "outputs": [
    {
     "data": {
      "text/html": [
       "<div>\n",
       "<style scoped>\n",
       "    .dataframe tbody tr th:only-of-type {\n",
       "        vertical-align: middle;\n",
       "    }\n",
       "\n",
       "    .dataframe tbody tr th {\n",
       "        vertical-align: top;\n",
       "    }\n",
       "\n",
       "    .dataframe thead th {\n",
       "        text-align: right;\n",
       "    }\n",
       "</style>\n",
       "<table border=\"1\" class=\"dataframe\">\n",
       "  <thead>\n",
       "    <tr style=\"text-align: right;\">\n",
       "      <th>call_month</th>\n",
       "      <th>April</th>\n",
       "      <th>August</th>\n",
       "      <th>December</th>\n",
       "      <th>February</th>\n",
       "      <th>January</th>\n",
       "      <th>July</th>\n",
       "      <th>June</th>\n",
       "      <th>March</th>\n",
       "      <th>May</th>\n",
       "      <th>November</th>\n",
       "      <th>October</th>\n",
       "      <th>September</th>\n",
       "    </tr>\n",
       "    <tr>\n",
       "      <th>call_day</th>\n",
       "      <th></th>\n",
       "      <th></th>\n",
       "      <th></th>\n",
       "      <th></th>\n",
       "      <th></th>\n",
       "      <th></th>\n",
       "      <th></th>\n",
       "      <th></th>\n",
       "      <th></th>\n",
       "      <th></th>\n",
       "      <th></th>\n",
       "      <th></th>\n",
       "    </tr>\n",
       "  </thead>\n",
       "  <tbody>\n",
       "    <tr>\n",
       "      <th>1</th>\n",
       "      <td>402.0</td>\n",
       "      <td>0.0</td>\n",
       "      <td>0.0</td>\n",
       "      <td>371.0</td>\n",
       "      <td>0.0</td>\n",
       "      <td>304.0</td>\n",
       "      <td>341.0</td>\n",
       "      <td>0.0</td>\n",
       "      <td>0.0</td>\n",
       "      <td>0.0</td>\n",
       "      <td>230.0</td>\n",
       "      <td>346.0</td>\n",
       "    </tr>\n",
       "    <tr>\n",
       "      <th>2</th>\n",
       "      <td>722.0</td>\n",
       "      <td>343.0</td>\n",
       "      <td>357.0</td>\n",
       "      <td>379.0</td>\n",
       "      <td>0.0</td>\n",
       "      <td>330.0</td>\n",
       "      <td>319.0</td>\n",
       "      <td>363.0</td>\n",
       "      <td>0.0</td>\n",
       "      <td>132.0</td>\n",
       "      <td>396.0</td>\n",
       "      <td>425.0</td>\n",
       "    </tr>\n",
       "    <tr>\n",
       "      <th>3</th>\n",
       "      <td>407.0</td>\n",
       "      <td>350.0</td>\n",
       "      <td>256.0</td>\n",
       "      <td>340.0</td>\n",
       "      <td>0.0</td>\n",
       "      <td>332.0</td>\n",
       "      <td>382.0</td>\n",
       "      <td>284.0</td>\n",
       "      <td>0.0</td>\n",
       "      <td>342.0</td>\n",
       "      <td>0.0</td>\n",
       "      <td>321.0</td>\n",
       "    </tr>\n",
       "    <tr>\n",
       "      <th>4</th>\n",
       "      <td>0.0</td>\n",
       "      <td>349.0</td>\n",
       "      <td>432.0</td>\n",
       "      <td>415.0</td>\n",
       "      <td>0.0</td>\n",
       "      <td>544.0</td>\n",
       "      <td>347.0</td>\n",
       "      <td>293.0</td>\n",
       "      <td>418.0</td>\n",
       "      <td>301.0</td>\n",
       "      <td>12.0</td>\n",
       "      <td>477.0</td>\n",
       "    </tr>\n",
       "    <tr>\n",
       "      <th>5</th>\n",
       "      <td>398.0</td>\n",
       "      <td>464.0</td>\n",
       "      <td>0.0</td>\n",
       "      <td>418.0</td>\n",
       "      <td>0.0</td>\n",
       "      <td>120.0</td>\n",
       "      <td>374.0</td>\n",
       "      <td>225.0</td>\n",
       "      <td>326.0</td>\n",
       "      <td>345.0</td>\n",
       "      <td>0.0</td>\n",
       "      <td>13.0</td>\n",
       "    </tr>\n",
       "    <tr>\n",
       "      <th>6</th>\n",
       "      <td>442.0</td>\n",
       "      <td>490.0</td>\n",
       "      <td>0.0</td>\n",
       "      <td>352.0</td>\n",
       "      <td>78.0</td>\n",
       "      <td>314.0</td>\n",
       "      <td>390.0</td>\n",
       "      <td>210.0</td>\n",
       "      <td>398.0</td>\n",
       "      <td>308.0</td>\n",
       "      <td>462.0</td>\n",
       "      <td>279.0</td>\n",
       "    </tr>\n",
       "    <tr>\n",
       "      <th>7</th>\n",
       "      <td>333.0</td>\n",
       "      <td>318.0</td>\n",
       "      <td>425.0</td>\n",
       "      <td>0.0</td>\n",
       "      <td>147.0</td>\n",
       "      <td>390.0</td>\n",
       "      <td>302.0</td>\n",
       "      <td>0.0</td>\n",
       "      <td>374.0</td>\n",
       "      <td>0.0</td>\n",
       "      <td>257.0</td>\n",
       "      <td>381.0</td>\n",
       "    </tr>\n",
       "    <tr>\n",
       "      <th>8</th>\n",
       "      <td>452.0</td>\n",
       "      <td>370.0</td>\n",
       "      <td>0.0</td>\n",
       "      <td>331.0</td>\n",
       "      <td>244.0</td>\n",
       "      <td>403.0</td>\n",
       "      <td>253.0</td>\n",
       "      <td>285.0</td>\n",
       "      <td>369.0</td>\n",
       "      <td>280.0</td>\n",
       "      <td>268.0</td>\n",
       "      <td>361.0</td>\n",
       "    </tr>\n",
       "    <tr>\n",
       "      <th>9</th>\n",
       "      <td>361.0</td>\n",
       "      <td>229.0</td>\n",
       "      <td>401.0</td>\n",
       "      <td>289.0</td>\n",
       "      <td>0.0</td>\n",
       "      <td>404.0</td>\n",
       "      <td>387.0</td>\n",
       "      <td>282.0</td>\n",
       "      <td>323.0</td>\n",
       "      <td>312.0</td>\n",
       "      <td>686.0</td>\n",
       "      <td>371.0</td>\n",
       "    </tr>\n",
       "    <tr>\n",
       "      <th>10</th>\n",
       "      <td>0.0</td>\n",
       "      <td>303.0</td>\n",
       "      <td>506.0</td>\n",
       "      <td>256.0</td>\n",
       "      <td>0.0</td>\n",
       "      <td>440.0</td>\n",
       "      <td>0.0</td>\n",
       "      <td>190.0</td>\n",
       "      <td>376.0</td>\n",
       "      <td>251.0</td>\n",
       "      <td>0.0</td>\n",
       "      <td>286.0</td>\n",
       "    </tr>\n",
       "    <tr>\n",
       "      <th>11</th>\n",
       "      <td>0.0</td>\n",
       "      <td>415.0</td>\n",
       "      <td>154.0</td>\n",
       "      <td>344.0</td>\n",
       "      <td>385.0</td>\n",
       "      <td>532.0</td>\n",
       "      <td>554.0</td>\n",
       "      <td>242.0</td>\n",
       "      <td>360.0</td>\n",
       "      <td>228.0</td>\n",
       "      <td>276.0</td>\n",
       "      <td>211.0</td>\n",
       "    </tr>\n",
       "    <tr>\n",
       "      <th>12</th>\n",
       "      <td>311.0</td>\n",
       "      <td>477.0</td>\n",
       "      <td>0.0</td>\n",
       "      <td>356.0</td>\n",
       "      <td>380.0</td>\n",
       "      <td>339.0</td>\n",
       "      <td>335.0</td>\n",
       "      <td>367.0</td>\n",
       "      <td>393.0</td>\n",
       "      <td>278.0</td>\n",
       "      <td>228.0</td>\n",
       "      <td>0.0</td>\n",
       "    </tr>\n",
       "    <tr>\n",
       "      <th>13</th>\n",
       "      <td>483.0</td>\n",
       "      <td>480.0</td>\n",
       "      <td>0.0</td>\n",
       "      <td>186.0</td>\n",
       "      <td>240.0</td>\n",
       "      <td>350.0</td>\n",
       "      <td>674.0</td>\n",
       "      <td>1686.0</td>\n",
       "      <td>412.0</td>\n",
       "      <td>312.0</td>\n",
       "      <td>371.0</td>\n",
       "      <td>205.0</td>\n",
       "    </tr>\n",
       "    <tr>\n",
       "      <th>14</th>\n",
       "      <td>351.0</td>\n",
       "      <td>362.0</td>\n",
       "      <td>370.0</td>\n",
       "      <td>0.0</td>\n",
       "      <td>319.0</td>\n",
       "      <td>424.0</td>\n",
       "      <td>343.0</td>\n",
       "      <td>0.0</td>\n",
       "      <td>398.0</td>\n",
       "      <td>174.0</td>\n",
       "      <td>435.0</td>\n",
       "      <td>400.0</td>\n",
       "    </tr>\n",
       "    <tr>\n",
       "      <th>15</th>\n",
       "      <td>338.0</td>\n",
       "      <td>0.0</td>\n",
       "      <td>358.0</td>\n",
       "      <td>286.0</td>\n",
       "      <td>486.0</td>\n",
       "      <td>469.0</td>\n",
       "      <td>296.0</td>\n",
       "      <td>335.0</td>\n",
       "      <td>415.0</td>\n",
       "      <td>401.0</td>\n",
       "      <td>312.0</td>\n",
       "      <td>400.0</td>\n",
       "    </tr>\n",
       "    <tr>\n",
       "      <th>16</th>\n",
       "      <td>479.0</td>\n",
       "      <td>257.0</td>\n",
       "      <td>396.0</td>\n",
       "      <td>158.0</td>\n",
       "      <td>0.0</td>\n",
       "      <td>437.0</td>\n",
       "      <td>408.0</td>\n",
       "      <td>348.0</td>\n",
       "      <td>409.0</td>\n",
       "      <td>373.0</td>\n",
       "      <td>290.0</td>\n",
       "      <td>410.0</td>\n",
       "    </tr>\n",
       "    <tr>\n",
       "      <th>17</th>\n",
       "      <td>358.0</td>\n",
       "      <td>342.0</td>\n",
       "      <td>372.0</td>\n",
       "      <td>241.0</td>\n",
       "      <td>0.0</td>\n",
       "      <td>561.0</td>\n",
       "      <td>343.0</td>\n",
       "      <td>288.0</td>\n",
       "      <td>534.0</td>\n",
       "      <td>322.0</td>\n",
       "      <td>892.0</td>\n",
       "      <td>312.0</td>\n",
       "    </tr>\n",
       "    <tr>\n",
       "      <th>18</th>\n",
       "      <td>0.0</td>\n",
       "      <td>322.0</td>\n",
       "      <td>307.0</td>\n",
       "      <td>300.0</td>\n",
       "      <td>310.0</td>\n",
       "      <td>516.0</td>\n",
       "      <td>451.0</td>\n",
       "      <td>338.0</td>\n",
       "      <td>390.0</td>\n",
       "      <td>347.0</td>\n",
       "      <td>398.0</td>\n",
       "      <td>594.0</td>\n",
       "    </tr>\n",
       "    <tr>\n",
       "      <th>19</th>\n",
       "      <td>432.0</td>\n",
       "      <td>320.0</td>\n",
       "      <td>0.0</td>\n",
       "      <td>322.0</td>\n",
       "      <td>0.0</td>\n",
       "      <td>360.0</td>\n",
       "      <td>431.0</td>\n",
       "      <td>194.0</td>\n",
       "      <td>338.0</td>\n",
       "      <td>394.0</td>\n",
       "      <td>297.0</td>\n",
       "      <td>0.0</td>\n",
       "    </tr>\n",
       "    <tr>\n",
       "      <th>20</th>\n",
       "      <td>324.0</td>\n",
       "      <td>311.0</td>\n",
       "      <td>0.0</td>\n",
       "      <td>0.0</td>\n",
       "      <td>0.0</td>\n",
       "      <td>354.0</td>\n",
       "      <td>309.0</td>\n",
       "      <td>93.0</td>\n",
       "      <td>415.0</td>\n",
       "      <td>470.0</td>\n",
       "      <td>482.0</td>\n",
       "      <td>98.0</td>\n",
       "    </tr>\n",
       "    <tr>\n",
       "      <th>21</th>\n",
       "      <td>361.0</td>\n",
       "      <td>413.0</td>\n",
       "      <td>518.0</td>\n",
       "      <td>0.0</td>\n",
       "      <td>0.0</td>\n",
       "      <td>455.0</td>\n",
       "      <td>100.0</td>\n",
       "      <td>0.0</td>\n",
       "      <td>383.0</td>\n",
       "      <td>376.0</td>\n",
       "      <td>387.0</td>\n",
       "      <td>0.0</td>\n",
       "    </tr>\n",
       "    <tr>\n",
       "      <th>22</th>\n",
       "      <td>326.0</td>\n",
       "      <td>353.0</td>\n",
       "      <td>250.0</td>\n",
       "      <td>339.0</td>\n",
       "      <td>0.0</td>\n",
       "      <td>479.0</td>\n",
       "      <td>504.0</td>\n",
       "      <td>204.0</td>\n",
       "      <td>329.0</td>\n",
       "      <td>0.0</td>\n",
       "      <td>362.0</td>\n",
       "      <td>298.0</td>\n",
       "    </tr>\n",
       "    <tr>\n",
       "      <th>23</th>\n",
       "      <td>262.0</td>\n",
       "      <td>0.0</td>\n",
       "      <td>282.0</td>\n",
       "      <td>285.0</td>\n",
       "      <td>0.0</td>\n",
       "      <td>407.0</td>\n",
       "      <td>569.0</td>\n",
       "      <td>208.0</td>\n",
       "      <td>369.0</td>\n",
       "      <td>0.0</td>\n",
       "      <td>278.0</td>\n",
       "      <td>361.0</td>\n",
       "    </tr>\n",
       "    <tr>\n",
       "      <th>24</th>\n",
       "      <td>175.0</td>\n",
       "      <td>247.0</td>\n",
       "      <td>286.0</td>\n",
       "      <td>268.0</td>\n",
       "      <td>0.0</td>\n",
       "      <td>483.0</td>\n",
       "      <td>375.0</td>\n",
       "      <td>170.0</td>\n",
       "      <td>447.0</td>\n",
       "      <td>258.0</td>\n",
       "      <td>171.0</td>\n",
       "      <td>223.0</td>\n",
       "    </tr>\n",
       "    <tr>\n",
       "      <th>25</th>\n",
       "      <td>0.0</td>\n",
       "      <td>307.0</td>\n",
       "      <td>0.0</td>\n",
       "      <td>416.0</td>\n",
       "      <td>451.0</td>\n",
       "      <td>556.0</td>\n",
       "      <td>262.0</td>\n",
       "      <td>220.0</td>\n",
       "      <td>356.0</td>\n",
       "      <td>353.0</td>\n",
       "      <td>278.0</td>\n",
       "      <td>451.0</td>\n",
       "    </tr>\n",
       "    <tr>\n",
       "      <th>26</th>\n",
       "      <td>427.0</td>\n",
       "      <td>317.0</td>\n",
       "      <td>0.0</td>\n",
       "      <td>309.0</td>\n",
       "      <td>646.0</td>\n",
       "      <td>373.0</td>\n",
       "      <td>673.0</td>\n",
       "      <td>259.0</td>\n",
       "      <td>338.0</td>\n",
       "      <td>0.0</td>\n",
       "      <td>314.0</td>\n",
       "      <td>0.0</td>\n",
       "    </tr>\n",
       "    <tr>\n",
       "      <th>27</th>\n",
       "      <td>250.0</td>\n",
       "      <td>384.0</td>\n",
       "      <td>0.0</td>\n",
       "      <td>160.0</td>\n",
       "      <td>282.0</td>\n",
       "      <td>387.0</td>\n",
       "      <td>301.0</td>\n",
       "      <td>269.0</td>\n",
       "      <td>328.0</td>\n",
       "      <td>84.0</td>\n",
       "      <td>351.0</td>\n",
       "      <td>684.0</td>\n",
       "    </tr>\n",
       "    <tr>\n",
       "      <th>28</th>\n",
       "      <td>370.0</td>\n",
       "      <td>263.0</td>\n",
       "      <td>532.0</td>\n",
       "      <td>0.0</td>\n",
       "      <td>393.0</td>\n",
       "      <td>370.0</td>\n",
       "      <td>370.0</td>\n",
       "      <td>0.0</td>\n",
       "      <td>341.0</td>\n",
       "      <td>0.0</td>\n",
       "      <td>280.0</td>\n",
       "      <td>363.0</td>\n",
       "    </tr>\n",
       "    <tr>\n",
       "      <th>29</th>\n",
       "      <td>433.0</td>\n",
       "      <td>206.0</td>\n",
       "      <td>376.0</td>\n",
       "      <td>0.0</td>\n",
       "      <td>342.0</td>\n",
       "      <td>356.0</td>\n",
       "      <td>323.0</td>\n",
       "      <td>262.0</td>\n",
       "      <td>400.0</td>\n",
       "      <td>0.0</td>\n",
       "      <td>308.0</td>\n",
       "      <td>345.0</td>\n",
       "    </tr>\n",
       "    <tr>\n",
       "      <th>30</th>\n",
       "      <td>432.0</td>\n",
       "      <td>0.0</td>\n",
       "      <td>264.0</td>\n",
       "      <td>0.0</td>\n",
       "      <td>451.0</td>\n",
       "      <td>418.0</td>\n",
       "      <td>244.0</td>\n",
       "      <td>352.0</td>\n",
       "      <td>435.0</td>\n",
       "      <td>667.0</td>\n",
       "      <td>243.0</td>\n",
       "      <td>369.0</td>\n",
       "    </tr>\n",
       "    <tr>\n",
       "      <th>31</th>\n",
       "      <td>0.0</td>\n",
       "      <td>303.0</td>\n",
       "      <td>646.0</td>\n",
       "      <td>0.0</td>\n",
       "      <td>0.0</td>\n",
       "      <td>307.0</td>\n",
       "      <td>0.0</td>\n",
       "      <td>267.0</td>\n",
       "      <td>775.0</td>\n",
       "      <td>0.0</td>\n",
       "      <td>333.0</td>\n",
       "      <td>0.0</td>\n",
       "    </tr>\n",
       "  </tbody>\n",
       "</table>\n",
       "</div>"
      ],
      "text/plain": [
       "call_month  April  August  December  February  January   July   June   March  \\\n",
       "call_day                                                                       \n",
       "1           402.0     0.0       0.0     371.0      0.0  304.0  341.0     0.0   \n",
       "2           722.0   343.0     357.0     379.0      0.0  330.0  319.0   363.0   \n",
       "3           407.0   350.0     256.0     340.0      0.0  332.0  382.0   284.0   \n",
       "4             0.0   349.0     432.0     415.0      0.0  544.0  347.0   293.0   \n",
       "5           398.0   464.0       0.0     418.0      0.0  120.0  374.0   225.0   \n",
       "6           442.0   490.0       0.0     352.0     78.0  314.0  390.0   210.0   \n",
       "7           333.0   318.0     425.0       0.0    147.0  390.0  302.0     0.0   \n",
       "8           452.0   370.0       0.0     331.0    244.0  403.0  253.0   285.0   \n",
       "9           361.0   229.0     401.0     289.0      0.0  404.0  387.0   282.0   \n",
       "10            0.0   303.0     506.0     256.0      0.0  440.0    0.0   190.0   \n",
       "11            0.0   415.0     154.0     344.0    385.0  532.0  554.0   242.0   \n",
       "12          311.0   477.0       0.0     356.0    380.0  339.0  335.0   367.0   \n",
       "13          483.0   480.0       0.0     186.0    240.0  350.0  674.0  1686.0   \n",
       "14          351.0   362.0     370.0       0.0    319.0  424.0  343.0     0.0   \n",
       "15          338.0     0.0     358.0     286.0    486.0  469.0  296.0   335.0   \n",
       "16          479.0   257.0     396.0     158.0      0.0  437.0  408.0   348.0   \n",
       "17          358.0   342.0     372.0     241.0      0.0  561.0  343.0   288.0   \n",
       "18            0.0   322.0     307.0     300.0    310.0  516.0  451.0   338.0   \n",
       "19          432.0   320.0       0.0     322.0      0.0  360.0  431.0   194.0   \n",
       "20          324.0   311.0       0.0       0.0      0.0  354.0  309.0    93.0   \n",
       "21          361.0   413.0     518.0       0.0      0.0  455.0  100.0     0.0   \n",
       "22          326.0   353.0     250.0     339.0      0.0  479.0  504.0   204.0   \n",
       "23          262.0     0.0     282.0     285.0      0.0  407.0  569.0   208.0   \n",
       "24          175.0   247.0     286.0     268.0      0.0  483.0  375.0   170.0   \n",
       "25            0.0   307.0       0.0     416.0    451.0  556.0  262.0   220.0   \n",
       "26          427.0   317.0       0.0     309.0    646.0  373.0  673.0   259.0   \n",
       "27          250.0   384.0       0.0     160.0    282.0  387.0  301.0   269.0   \n",
       "28          370.0   263.0     532.0       0.0    393.0  370.0  370.0     0.0   \n",
       "29          433.0   206.0     376.0       0.0    342.0  356.0  323.0   262.0   \n",
       "30          432.0     0.0     264.0       0.0    451.0  418.0  244.0   352.0   \n",
       "31            0.0   303.0     646.0       0.0      0.0  307.0    0.0   267.0   \n",
       "\n",
       "call_month    May  November  October  September  \n",
       "call_day                                         \n",
       "1             0.0       0.0    230.0      346.0  \n",
       "2             0.0     132.0    396.0      425.0  \n",
       "3             0.0     342.0      0.0      321.0  \n",
       "4           418.0     301.0     12.0      477.0  \n",
       "5           326.0     345.0      0.0       13.0  \n",
       "6           398.0     308.0    462.0      279.0  \n",
       "7           374.0       0.0    257.0      381.0  \n",
       "8           369.0     280.0    268.0      361.0  \n",
       "9           323.0     312.0    686.0      371.0  \n",
       "10          376.0     251.0      0.0      286.0  \n",
       "11          360.0     228.0    276.0      211.0  \n",
       "12          393.0     278.0    228.0        0.0  \n",
       "13          412.0     312.0    371.0      205.0  \n",
       "14          398.0     174.0    435.0      400.0  \n",
       "15          415.0     401.0    312.0      400.0  \n",
       "16          409.0     373.0    290.0      410.0  \n",
       "17          534.0     322.0    892.0      312.0  \n",
       "18          390.0     347.0    398.0      594.0  \n",
       "19          338.0     394.0    297.0        0.0  \n",
       "20          415.0     470.0    482.0       98.0  \n",
       "21          383.0     376.0    387.0        0.0  \n",
       "22          329.0       0.0    362.0      298.0  \n",
       "23          369.0       0.0    278.0      361.0  \n",
       "24          447.0     258.0    171.0      223.0  \n",
       "25          356.0     353.0    278.0      451.0  \n",
       "26          338.0       0.0    314.0        0.0  \n",
       "27          328.0      84.0    351.0      684.0  \n",
       "28          341.0       0.0    280.0      363.0  \n",
       "29          400.0       0.0    308.0      345.0  \n",
       "30          435.0     667.0    243.0      369.0  \n",
       "31          775.0       0.0    333.0        0.0  "
      ]
     },
     "execution_count": 21,
     "metadata": {},
     "output_type": "execute_result"
    }
   ],
   "source": [
    "np.round(pd.pivot_table(df,index='call_month', columns='call_day', values='call_duration', fill_value=0)).T"
   ]
  },
  {
   "cell_type": "code",
   "execution_count": 22,
   "metadata": {
    "colab": {
     "base_uri": "https://localhost:8080/",
     "height": 1000
    },
    "id": "0B8v1u9qNy6y",
    "outputId": "e11a3a97-b65b-4528-e91a-25b4babb4536"
   },
   "outputs": [
    {
     "data": {
      "text/html": [
       "<div>\n",
       "<style scoped>\n",
       "    .dataframe tbody tr th:only-of-type {\n",
       "        vertical-align: middle;\n",
       "    }\n",
       "\n",
       "    .dataframe tbody tr th {\n",
       "        vertical-align: top;\n",
       "    }\n",
       "\n",
       "    .dataframe thead th {\n",
       "        text-align: right;\n",
       "    }\n",
       "</style>\n",
       "<table border=\"1\" class=\"dataframe\">\n",
       "  <thead>\n",
       "    <tr style=\"text-align: right;\">\n",
       "      <th>call_month</th>\n",
       "      <th>April</th>\n",
       "      <th>August</th>\n",
       "      <th>December</th>\n",
       "      <th>February</th>\n",
       "      <th>January</th>\n",
       "      <th>July</th>\n",
       "      <th>June</th>\n",
       "      <th>March</th>\n",
       "      <th>May</th>\n",
       "      <th>November</th>\n",
       "      <th>October</th>\n",
       "      <th>September</th>\n",
       "    </tr>\n",
       "    <tr>\n",
       "      <th>call_day</th>\n",
       "      <th></th>\n",
       "      <th></th>\n",
       "      <th></th>\n",
       "      <th></th>\n",
       "      <th></th>\n",
       "      <th></th>\n",
       "      <th></th>\n",
       "      <th></th>\n",
       "      <th></th>\n",
       "      <th></th>\n",
       "      <th></th>\n",
       "      <th></th>\n",
       "    </tr>\n",
       "  </thead>\n",
       "  <tbody>\n",
       "    <tr>\n",
       "      <th>1</th>\n",
       "      <td>6029.0</td>\n",
       "      <td>NaN</td>\n",
       "      <td>NaN</td>\n",
       "      <td>1854.0</td>\n",
       "      <td>NaN</td>\n",
       "      <td>6394.0</td>\n",
       "      <td>16389.0</td>\n",
       "      <td>NaN</td>\n",
       "      <td>NaN</td>\n",
       "      <td>NaN</td>\n",
       "      <td>3445.0</td>\n",
       "      <td>6926.0</td>\n",
       "    </tr>\n",
       "    <tr>\n",
       "      <th>2</th>\n",
       "      <td>7225.0</td>\n",
       "      <td>2399.0</td>\n",
       "      <td>1428.0</td>\n",
       "      <td>36351.0</td>\n",
       "      <td>NaN</td>\n",
       "      <td>10569.0</td>\n",
       "      <td>37315.0</td>\n",
       "      <td>9808.0</td>\n",
       "      <td>NaN</td>\n",
       "      <td>1187.0</td>\n",
       "      <td>1585.0</td>\n",
       "      <td>5521.0</td>\n",
       "    </tr>\n",
       "    <tr>\n",
       "      <th>3</th>\n",
       "      <td>5293.0</td>\n",
       "      <td>4547.0</td>\n",
       "      <td>2559.0</td>\n",
       "      <td>28861.0</td>\n",
       "      <td>NaN</td>\n",
       "      <td>8621.0</td>\n",
       "      <td>42778.0</td>\n",
       "      <td>5963.0</td>\n",
       "      <td>NaN</td>\n",
       "      <td>5807.0</td>\n",
       "      <td>NaN</td>\n",
       "      <td>5774.0</td>\n",
       "    </tr>\n",
       "    <tr>\n",
       "      <th>4</th>\n",
       "      <td>NaN</td>\n",
       "      <td>23749.0</td>\n",
       "      <td>3889.0</td>\n",
       "      <td>40248.0</td>\n",
       "      <td>NaN</td>\n",
       "      <td>6533.0</td>\n",
       "      <td>30560.0</td>\n",
       "      <td>2639.0</td>\n",
       "      <td>36328.0</td>\n",
       "      <td>1807.0</td>\n",
       "      <td>12.0</td>\n",
       "      <td>5244.0</td>\n",
       "    </tr>\n",
       "    <tr>\n",
       "      <th>5</th>\n",
       "      <td>5566.0</td>\n",
       "      <td>36681.0</td>\n",
       "      <td>NaN</td>\n",
       "      <td>35559.0</td>\n",
       "      <td>NaN</td>\n",
       "      <td>479.0</td>\n",
       "      <td>40062.0</td>\n",
       "      <td>5183.0</td>\n",
       "      <td>44380.0</td>\n",
       "      <td>2072.0</td>\n",
       "      <td>NaN</td>\n",
       "      <td>13.0</td>\n",
       "    </tr>\n",
       "    <tr>\n",
       "      <th>6</th>\n",
       "      <td>11938.0</td>\n",
       "      <td>35268.0</td>\n",
       "      <td>NaN</td>\n",
       "      <td>17602.0</td>\n",
       "      <td>78.0</td>\n",
       "      <td>2516.0</td>\n",
       "      <td>26141.0</td>\n",
       "      <td>1260.0</td>\n",
       "      <td>56852.0</td>\n",
       "      <td>1849.0</td>\n",
       "      <td>6937.0</td>\n",
       "      <td>4188.0</td>\n",
       "    </tr>\n",
       "    <tr>\n",
       "      <th>7</th>\n",
       "      <td>5665.0</td>\n",
       "      <td>25458.0</td>\n",
       "      <td>3825.0</td>\n",
       "      <td>NaN</td>\n",
       "      <td>294.0</td>\n",
       "      <td>33528.0</td>\n",
       "      <td>302.0</td>\n",
       "      <td>NaN</td>\n",
       "      <td>66627.0</td>\n",
       "      <td>NaN</td>\n",
       "      <td>1797.0</td>\n",
       "      <td>6479.0</td>\n",
       "    </tr>\n",
       "    <tr>\n",
       "      <th>8</th>\n",
       "      <td>18090.0</td>\n",
       "      <td>22200.0</td>\n",
       "      <td>NaN</td>\n",
       "      <td>3973.0</td>\n",
       "      <td>488.0</td>\n",
       "      <td>37474.0</td>\n",
       "      <td>3289.0</td>\n",
       "      <td>2564.0</td>\n",
       "      <td>48383.0</td>\n",
       "      <td>1959.0</td>\n",
       "      <td>4830.0</td>\n",
       "      <td>9760.0</td>\n",
       "    </tr>\n",
       "    <tr>\n",
       "      <th>9</th>\n",
       "      <td>8295.0</td>\n",
       "      <td>1833.0</td>\n",
       "      <td>5217.0</td>\n",
       "      <td>16162.0</td>\n",
       "      <td>NaN</td>\n",
       "      <td>28307.0</td>\n",
       "      <td>25147.0</td>\n",
       "      <td>5077.0</td>\n",
       "      <td>24862.0</td>\n",
       "      <td>5922.0</td>\n",
       "      <td>1372.0</td>\n",
       "      <td>10389.0</td>\n",
       "    </tr>\n",
       "    <tr>\n",
       "      <th>10</th>\n",
       "      <td>NaN</td>\n",
       "      <td>10006.0</td>\n",
       "      <td>4045.0</td>\n",
       "      <td>6395.0</td>\n",
       "      <td>NaN</td>\n",
       "      <td>27276.0</td>\n",
       "      <td>NaN</td>\n",
       "      <td>2471.0</td>\n",
       "      <td>1502.0</td>\n",
       "      <td>5776.0</td>\n",
       "      <td>NaN</td>\n",
       "      <td>2572.0</td>\n",
       "    </tr>\n",
       "    <tr>\n",
       "      <th>11</th>\n",
       "      <td>NaN</td>\n",
       "      <td>38972.0</td>\n",
       "      <td>307.0</td>\n",
       "      <td>11004.0</td>\n",
       "      <td>2694.0</td>\n",
       "      <td>21289.0</td>\n",
       "      <td>16052.0</td>\n",
       "      <td>2902.0</td>\n",
       "      <td>28401.0</td>\n",
       "      <td>4552.0</td>\n",
       "      <td>2482.0</td>\n",
       "      <td>3166.0</td>\n",
       "    </tr>\n",
       "    <tr>\n",
       "      <th>12</th>\n",
       "      <td>2488.0</td>\n",
       "      <td>55847.0</td>\n",
       "      <td>NaN</td>\n",
       "      <td>7833.0</td>\n",
       "      <td>5315.0</td>\n",
       "      <td>3050.0</td>\n",
       "      <td>14741.0</td>\n",
       "      <td>5879.0</td>\n",
       "      <td>57401.0</td>\n",
       "      <td>7795.0</td>\n",
       "      <td>2505.0</td>\n",
       "      <td>NaN</td>\n",
       "    </tr>\n",
       "    <tr>\n",
       "      <th>13</th>\n",
       "      <td>15928.0</td>\n",
       "      <td>37945.0</td>\n",
       "      <td>NaN</td>\n",
       "      <td>2609.0</td>\n",
       "      <td>2400.0</td>\n",
       "      <td>5243.0</td>\n",
       "      <td>674.0</td>\n",
       "      <td>3372.0</td>\n",
       "      <td>83572.0</td>\n",
       "      <td>8417.0</td>\n",
       "      <td>6312.0</td>\n",
       "      <td>819.0</td>\n",
       "    </tr>\n",
       "    <tr>\n",
       "      <th>14</th>\n",
       "      <td>13323.0</td>\n",
       "      <td>26797.0</td>\n",
       "      <td>741.0</td>\n",
       "      <td>NaN</td>\n",
       "      <td>4472.0</td>\n",
       "      <td>24171.0</td>\n",
       "      <td>5140.0</td>\n",
       "      <td>NaN</td>\n",
       "      <td>81896.0</td>\n",
       "      <td>1044.0</td>\n",
       "      <td>5652.0</td>\n",
       "      <td>5602.0</td>\n",
       "    </tr>\n",
       "    <tr>\n",
       "      <th>15</th>\n",
       "      <td>13177.0</td>\n",
       "      <td>NaN</td>\n",
       "      <td>1430.0</td>\n",
       "      <td>4855.0</td>\n",
       "      <td>3404.0</td>\n",
       "      <td>29577.0</td>\n",
       "      <td>9183.0</td>\n",
       "      <td>2681.0</td>\n",
       "      <td>88050.0</td>\n",
       "      <td>401.0</td>\n",
       "      <td>4374.0</td>\n",
       "      <td>9600.0</td>\n",
       "    </tr>\n",
       "    <tr>\n",
       "      <th>16</th>\n",
       "      <td>32065.0</td>\n",
       "      <td>1027.0</td>\n",
       "      <td>1586.0</td>\n",
       "      <td>1424.0</td>\n",
       "      <td>NaN</td>\n",
       "      <td>32316.0</td>\n",
       "      <td>22860.0</td>\n",
       "      <td>2782.0</td>\n",
       "      <td>31066.0</td>\n",
       "      <td>11566.0</td>\n",
       "      <td>4936.0</td>\n",
       "      <td>8614.0</td>\n",
       "    </tr>\n",
       "    <tr>\n",
       "      <th>17</th>\n",
       "      <td>39739.0</td>\n",
       "      <td>3762.0</td>\n",
       "      <td>2235.0</td>\n",
       "      <td>5071.0</td>\n",
       "      <td>NaN</td>\n",
       "      <td>31982.0</td>\n",
       "      <td>22606.0</td>\n",
       "      <td>2880.0</td>\n",
       "      <td>3205.0</td>\n",
       "      <td>38259.0</td>\n",
       "      <td>4459.0</td>\n",
       "      <td>2181.0</td>\n",
       "    </tr>\n",
       "    <tr>\n",
       "      <th>18</th>\n",
       "      <td>NaN</td>\n",
       "      <td>21895.0</td>\n",
       "      <td>1535.0</td>\n",
       "      <td>8107.0</td>\n",
       "      <td>2480.0</td>\n",
       "      <td>26827.0</td>\n",
       "      <td>31105.0</td>\n",
       "      <td>4733.0</td>\n",
       "      <td>54530.0</td>\n",
       "      <td>36436.0</td>\n",
       "      <td>4771.0</td>\n",
       "      <td>2376.0</td>\n",
       "    </tr>\n",
       "    <tr>\n",
       "      <th>19</th>\n",
       "      <td>2159.0</td>\n",
       "      <td>18534.0</td>\n",
       "      <td>NaN</td>\n",
       "      <td>3537.0</td>\n",
       "      <td>NaN</td>\n",
       "      <td>3238.0</td>\n",
       "      <td>21986.0</td>\n",
       "      <td>387.0</td>\n",
       "      <td>15214.0</td>\n",
       "      <td>48865.0</td>\n",
       "      <td>2971.0</td>\n",
       "      <td>NaN</td>\n",
       "    </tr>\n",
       "    <tr>\n",
       "      <th>20</th>\n",
       "      <td>40488.0</td>\n",
       "      <td>19876.0</td>\n",
       "      <td>NaN</td>\n",
       "      <td>NaN</td>\n",
       "      <td>NaN</td>\n",
       "      <td>2127.0</td>\n",
       "      <td>33059.0</td>\n",
       "      <td>93.0</td>\n",
       "      <td>28634.0</td>\n",
       "      <td>66691.0</td>\n",
       "      <td>8195.0</td>\n",
       "      <td>196.0</td>\n",
       "    </tr>\n",
       "    <tr>\n",
       "      <th>21</th>\n",
       "      <td>10456.0</td>\n",
       "      <td>23522.0</td>\n",
       "      <td>4146.0</td>\n",
       "      <td>NaN</td>\n",
       "      <td>NaN</td>\n",
       "      <td>30470.0</td>\n",
       "      <td>100.0</td>\n",
       "      <td>NaN</td>\n",
       "      <td>32912.0</td>\n",
       "      <td>60854.0</td>\n",
       "      <td>11987.0</td>\n",
       "      <td>NaN</td>\n",
       "    </tr>\n",
       "    <tr>\n",
       "      <th>22</th>\n",
       "      <td>8806.0</td>\n",
       "      <td>15895.0</td>\n",
       "      <td>1503.0</td>\n",
       "      <td>2372.0</td>\n",
       "      <td>NaN</td>\n",
       "      <td>30197.0</td>\n",
       "      <td>5542.0</td>\n",
       "      <td>1628.0</td>\n",
       "      <td>10528.0</td>\n",
       "      <td>NaN</td>\n",
       "      <td>10861.0</td>\n",
       "      <td>4165.0</td>\n",
       "    </tr>\n",
       "    <tr>\n",
       "      <th>23</th>\n",
       "      <td>6548.0</td>\n",
       "      <td>NaN</td>\n",
       "      <td>282.0</td>\n",
       "      <td>3705.0</td>\n",
       "      <td>NaN</td>\n",
       "      <td>31729.0</td>\n",
       "      <td>6262.0</td>\n",
       "      <td>2077.0</td>\n",
       "      <td>25439.0</td>\n",
       "      <td>NaN</td>\n",
       "      <td>5836.0</td>\n",
       "      <td>6857.0</td>\n",
       "    </tr>\n",
       "    <tr>\n",
       "      <th>24</th>\n",
       "      <td>1398.0</td>\n",
       "      <td>1235.0</td>\n",
       "      <td>572.0</td>\n",
       "      <td>2945.0</td>\n",
       "      <td>NaN</td>\n",
       "      <td>26087.0</td>\n",
       "      <td>3374.0</td>\n",
       "      <td>851.0</td>\n",
       "      <td>3126.0</td>\n",
       "      <td>515.0</td>\n",
       "      <td>514.0</td>\n",
       "      <td>1782.0</td>\n",
       "    </tr>\n",
       "    <tr>\n",
       "      <th>25</th>\n",
       "      <td>NaN</td>\n",
       "      <td>19944.0</td>\n",
       "      <td>NaN</td>\n",
       "      <td>3330.0</td>\n",
       "      <td>2708.0</td>\n",
       "      <td>32784.0</td>\n",
       "      <td>2093.0</td>\n",
       "      <td>2200.0</td>\n",
       "      <td>16395.0</td>\n",
       "      <td>5295.0</td>\n",
       "      <td>2780.0</td>\n",
       "      <td>902.0</td>\n",
       "    </tr>\n",
       "    <tr>\n",
       "      <th>26</th>\n",
       "      <td>3842.0</td>\n",
       "      <td>12672.0</td>\n",
       "      <td>NaN</td>\n",
       "      <td>4949.0</td>\n",
       "      <td>2586.0</td>\n",
       "      <td>3733.0</td>\n",
       "      <td>5387.0</td>\n",
       "      <td>2074.0</td>\n",
       "      <td>40947.0</td>\n",
       "      <td>NaN</td>\n",
       "      <td>3457.0</td>\n",
       "      <td>NaN</td>\n",
       "    </tr>\n",
       "    <tr>\n",
       "      <th>27</th>\n",
       "      <td>4507.0</td>\n",
       "      <td>17263.0</td>\n",
       "      <td>NaN</td>\n",
       "      <td>3210.0</td>\n",
       "      <td>3660.0</td>\n",
       "      <td>2710.0</td>\n",
       "      <td>2707.0</td>\n",
       "      <td>3502.0</td>\n",
       "      <td>35118.0</td>\n",
       "      <td>168.0</td>\n",
       "      <td>11238.0</td>\n",
       "      <td>2738.0</td>\n",
       "    </tr>\n",
       "    <tr>\n",
       "      <th>28</th>\n",
       "      <td>2590.0</td>\n",
       "      <td>16842.0</td>\n",
       "      <td>5318.0</td>\n",
       "      <td>NaN</td>\n",
       "      <td>33446.0</td>\n",
       "      <td>28474.0</td>\n",
       "      <td>4443.0</td>\n",
       "      <td>NaN</td>\n",
       "      <td>31672.0</td>\n",
       "      <td>NaN</td>\n",
       "      <td>3363.0</td>\n",
       "      <td>1816.0</td>\n",
       "    </tr>\n",
       "    <tr>\n",
       "      <th>29</th>\n",
       "      <td>9083.0</td>\n",
       "      <td>7630.0</td>\n",
       "      <td>3008.0</td>\n",
       "      <td>NaN</td>\n",
       "      <td>32480.0</td>\n",
       "      <td>23118.0</td>\n",
       "      <td>2907.0</td>\n",
       "      <td>525.0</td>\n",
       "      <td>25222.0</td>\n",
       "      <td>NaN</td>\n",
       "      <td>8323.0</td>\n",
       "      <td>2068.0</td>\n",
       "    </tr>\n",
       "    <tr>\n",
       "      <th>30</th>\n",
       "      <td>76468.0</td>\n",
       "      <td>NaN</td>\n",
       "      <td>527.0</td>\n",
       "      <td>NaN</td>\n",
       "      <td>20296.0</td>\n",
       "      <td>35554.0</td>\n",
       "      <td>3411.0</td>\n",
       "      <td>3166.0</td>\n",
       "      <td>34821.0</td>\n",
       "      <td>2001.0</td>\n",
       "      <td>5354.0</td>\n",
       "      <td>1477.0</td>\n",
       "    </tr>\n",
       "    <tr>\n",
       "      <th>31</th>\n",
       "      <td>NaN</td>\n",
       "      <td>6055.0</td>\n",
       "      <td>646.0</td>\n",
       "      <td>NaN</td>\n",
       "      <td>NaN</td>\n",
       "      <td>32205.0</td>\n",
       "      <td>NaN</td>\n",
       "      <td>1602.0</td>\n",
       "      <td>775.0</td>\n",
       "      <td>NaN</td>\n",
       "      <td>1000.0</td>\n",
       "      <td>NaN</td>\n",
       "    </tr>\n",
       "  </tbody>\n",
       "</table>\n",
       "</div>"
      ],
      "text/plain": [
       "call_month    April   August  December  February  January     July     June  \\\n",
       "call_day                                                                      \n",
       "1            6029.0      NaN       NaN    1854.0      NaN   6394.0  16389.0   \n",
       "2            7225.0   2399.0    1428.0   36351.0      NaN  10569.0  37315.0   \n",
       "3            5293.0   4547.0    2559.0   28861.0      NaN   8621.0  42778.0   \n",
       "4               NaN  23749.0    3889.0   40248.0      NaN   6533.0  30560.0   \n",
       "5            5566.0  36681.0       NaN   35559.0      NaN    479.0  40062.0   \n",
       "6           11938.0  35268.0       NaN   17602.0     78.0   2516.0  26141.0   \n",
       "7            5665.0  25458.0    3825.0       NaN    294.0  33528.0    302.0   \n",
       "8           18090.0  22200.0       NaN    3973.0    488.0  37474.0   3289.0   \n",
       "9            8295.0   1833.0    5217.0   16162.0      NaN  28307.0  25147.0   \n",
       "10              NaN  10006.0    4045.0    6395.0      NaN  27276.0      NaN   \n",
       "11              NaN  38972.0     307.0   11004.0   2694.0  21289.0  16052.0   \n",
       "12           2488.0  55847.0       NaN    7833.0   5315.0   3050.0  14741.0   \n",
       "13          15928.0  37945.0       NaN    2609.0   2400.0   5243.0    674.0   \n",
       "14          13323.0  26797.0     741.0       NaN   4472.0  24171.0   5140.0   \n",
       "15          13177.0      NaN    1430.0    4855.0   3404.0  29577.0   9183.0   \n",
       "16          32065.0   1027.0    1586.0    1424.0      NaN  32316.0  22860.0   \n",
       "17          39739.0   3762.0    2235.0    5071.0      NaN  31982.0  22606.0   \n",
       "18              NaN  21895.0    1535.0    8107.0   2480.0  26827.0  31105.0   \n",
       "19           2159.0  18534.0       NaN    3537.0      NaN   3238.0  21986.0   \n",
       "20          40488.0  19876.0       NaN       NaN      NaN   2127.0  33059.0   \n",
       "21          10456.0  23522.0    4146.0       NaN      NaN  30470.0    100.0   \n",
       "22           8806.0  15895.0    1503.0    2372.0      NaN  30197.0   5542.0   \n",
       "23           6548.0      NaN     282.0    3705.0      NaN  31729.0   6262.0   \n",
       "24           1398.0   1235.0     572.0    2945.0      NaN  26087.0   3374.0   \n",
       "25              NaN  19944.0       NaN    3330.0   2708.0  32784.0   2093.0   \n",
       "26           3842.0  12672.0       NaN    4949.0   2586.0   3733.0   5387.0   \n",
       "27           4507.0  17263.0       NaN    3210.0   3660.0   2710.0   2707.0   \n",
       "28           2590.0  16842.0    5318.0       NaN  33446.0  28474.0   4443.0   \n",
       "29           9083.0   7630.0    3008.0       NaN  32480.0  23118.0   2907.0   \n",
       "30          76468.0      NaN     527.0       NaN  20296.0  35554.0   3411.0   \n",
       "31              NaN   6055.0     646.0       NaN      NaN  32205.0      NaN   \n",
       "\n",
       "call_month   March      May  November  October  September  \n",
       "call_day                                                   \n",
       "1              NaN      NaN       NaN   3445.0     6926.0  \n",
       "2           9808.0      NaN    1187.0   1585.0     5521.0  \n",
       "3           5963.0      NaN    5807.0      NaN     5774.0  \n",
       "4           2639.0  36328.0    1807.0     12.0     5244.0  \n",
       "5           5183.0  44380.0    2072.0      NaN       13.0  \n",
       "6           1260.0  56852.0    1849.0   6937.0     4188.0  \n",
       "7              NaN  66627.0       NaN   1797.0     6479.0  \n",
       "8           2564.0  48383.0    1959.0   4830.0     9760.0  \n",
       "9           5077.0  24862.0    5922.0   1372.0    10389.0  \n",
       "10          2471.0   1502.0    5776.0      NaN     2572.0  \n",
       "11          2902.0  28401.0    4552.0   2482.0     3166.0  \n",
       "12          5879.0  57401.0    7795.0   2505.0        NaN  \n",
       "13          3372.0  83572.0    8417.0   6312.0      819.0  \n",
       "14             NaN  81896.0    1044.0   5652.0     5602.0  \n",
       "15          2681.0  88050.0     401.0   4374.0     9600.0  \n",
       "16          2782.0  31066.0   11566.0   4936.0     8614.0  \n",
       "17          2880.0   3205.0   38259.0   4459.0     2181.0  \n",
       "18          4733.0  54530.0   36436.0   4771.0     2376.0  \n",
       "19           387.0  15214.0   48865.0   2971.0        NaN  \n",
       "20            93.0  28634.0   66691.0   8195.0      196.0  \n",
       "21             NaN  32912.0   60854.0  11987.0        NaN  \n",
       "22          1628.0  10528.0       NaN  10861.0     4165.0  \n",
       "23          2077.0  25439.0       NaN   5836.0     6857.0  \n",
       "24           851.0   3126.0     515.0    514.0     1782.0  \n",
       "25          2200.0  16395.0    5295.0   2780.0      902.0  \n",
       "26          2074.0  40947.0       NaN   3457.0        NaN  \n",
       "27          3502.0  35118.0     168.0  11238.0     2738.0  \n",
       "28             NaN  31672.0       NaN   3363.0     1816.0  \n",
       "29           525.0  25222.0       NaN   8323.0     2068.0  \n",
       "30          3166.0  34821.0    2001.0   5354.0     1477.0  \n",
       "31          1602.0    775.0       NaN   1000.0        NaN  "
      ]
     },
     "execution_count": 22,
     "metadata": {},
     "output_type": "execute_result"
    }
   ],
   "source": [
    "pd.crosstab( index=df['call_month'], columns=df['call_day'], values=df['call_duration'], aggfunc='sum').T"
   ]
  },
  {
   "cell_type": "code",
   "execution_count": 23,
   "metadata": {
    "colab": {
     "base_uri": "https://localhost:8080/",
     "height": 163
    },
    "id": "nGcFoYMPN1OY",
    "outputId": "50eac986-c138-4559-cbd0-cad45161dce0"
   },
   "outputs": [
    {
     "data": {
      "text/html": [
       "<div>\n",
       "<style scoped>\n",
       "    .dataframe tbody tr th:only-of-type {\n",
       "        vertical-align: middle;\n",
       "    }\n",
       "\n",
       "    .dataframe tbody tr th {\n",
       "        vertical-align: top;\n",
       "    }\n",
       "\n",
       "    .dataframe thead th {\n",
       "        text-align: right;\n",
       "    }\n",
       "</style>\n",
       "<table border=\"1\" class=\"dataframe\">\n",
       "  <thead>\n",
       "    <tr style=\"text-align: right;\">\n",
       "      <th>previous_campaign_outcome</th>\n",
       "      <th>other_outcome</th>\n",
       "      <th>successful</th>\n",
       "      <th>unidentified</th>\n",
       "      <th>unsuccessful</th>\n",
       "    </tr>\n",
       "    <tr>\n",
       "      <th>conversion_status</th>\n",
       "      <th></th>\n",
       "      <th></th>\n",
       "      <th></th>\n",
       "      <th></th>\n",
       "    </tr>\n",
       "  </thead>\n",
       "  <tbody>\n",
       "    <tr>\n",
       "      <th>0</th>\n",
       "      <td>217</td>\n",
       "      <td>99</td>\n",
       "      <td>4407</td>\n",
       "      <td>566</td>\n",
       "    </tr>\n",
       "    <tr>\n",
       "      <th>1</th>\n",
       "      <td>307</td>\n",
       "      <td>978</td>\n",
       "      <td>3386</td>\n",
       "      <td>618</td>\n",
       "    </tr>\n",
       "  </tbody>\n",
       "</table>\n",
       "</div>"
      ],
      "text/plain": [
       "previous_campaign_outcome  other_outcome  successful  unidentified  \\\n",
       "conversion_status                                                    \n",
       "0                                    217          99          4407   \n",
       "1                                    307         978          3386   \n",
       "\n",
       "previous_campaign_outcome  unsuccessful  \n",
       "conversion_status                        \n",
       "0                                   566  \n",
       "1                                   618  "
      ]
     },
     "execution_count": 23,
     "metadata": {},
     "output_type": "execute_result"
    }
   ],
   "source": [
    "pd.crosstab(index=df['conversion_status'], columns=df['previous_campaign_outcome'])"
   ]
  },
  {
   "cell_type": "code",
   "execution_count": 24,
   "metadata": {
    "colab": {
     "base_uri": "https://localhost:8080/",
     "height": 648
    },
    "id": "kUHySOAYN2s8",
    "outputId": "c1e2bdee-e941-455b-8e9b-0283de0158a8"
   },
   "outputs": [
    {
     "data": {
      "text/plain": [
       "<Axes: xlabel='conversion_status', ylabel='count'>"
      ]
     },
     "execution_count": 24,
     "metadata": {},
     "output_type": "execute_result"
    },
    {
     "data": {
      "image/png": "[encoded data removed]",
      "text/plain": [
       "<Figure size 640x480 with 1 Axes>"
      ]
     },
     "metadata": {},
     "output_type": "display_data"
    }
   ],
   "source": [
    "sns.countplot(df,x='conversion_status', hue='previous_campaign_outcome')"
   ]
  },
  {
   "cell_type": "code",
   "execution_count": 25,
   "metadata": {
    "colab": {
     "base_uri": "https://localhost:8080/"
    },
    "id": "ZZsNOBkCN5Gs",
    "outputId": "1ae838e5-65f4-4c3c-c018-6706d804c45d"
   },
   "outputs": [
    {
     "data": {
      "text/plain": [
       "occupation\n",
       "executive               2405\n",
       "manual_worker           1868\n",
       "technical_specialist    1703\n",
       "administrative_staff    1235\n",
       "service_worker           856\n",
       "retired_worker           760\n",
       "jobless                  375\n",
       "independent_worker       370\n",
       "student                  356\n",
       "business_owner           335\n",
       "domestic_worker          253\n",
       "unidentified              62\n",
       "Name: count, dtype: int64"
      ]
     },
     "execution_count": 25,
     "metadata": {},
     "output_type": "execute_result"
    }
   ],
   "source": [
    "df.occupation.value_counts() ## pd.get_dummies"
   ]
  },
  {
   "cell_type": "code",
   "execution_count": 26,
   "metadata": {
    "id": "ZLIJpoarN7FS"
   },
   "outputs": [],
   "source": [
    "occ = pd.get_dummies(df,columns=['occupation'],dtype='int', drop_first=True)"
   ]
  },
  {
   "cell_type": "code",
   "execution_count": 27,
   "metadata": {
    "id": "17l0NgWLN8m6"
   },
   "outputs": [],
   "source": [
    "df = pd.concat([df['occupation'], occ], axis=1 )"
   ]
  },
  {
   "cell_type": "code",
   "execution_count": 28,
   "metadata": {
    "id": "GS_ahb7uN-Yx"
   },
   "outputs": [],
   "source": [
    "df.drop('occupation', axis=1, inplace=True)"
   ]
  },
  {
   "cell_type": "markdown",
   "metadata": {
    "id": "2dpRZpZ5OAbc"
   },
   "source": [
    "# Ordinal Encoding"
   ]
  },
  {
   "cell_type": "code",
   "execution_count": 32,
   "metadata": {
    "id": "cKdfAHmEOCgY"
   },
   "outputs": [],
   "source": [
    "from sklearn.preprocessing import OrdinalEncoder"
   ]
  },
  {
   "cell_type": "code",
   "execution_count": 33,
   "metadata": {
    "id": "msuxA9nhOENh"
   },
   "outputs": [],
   "source": [
    "enc = OrdinalEncoder()\n",
    "df['education_level'] = enc.fit_transform(df[[\"education_level\"]])"
   ]
  },
  {
   "cell_type": "code",
   "execution_count": 34,
   "metadata": {
    "colab": {
     "base_uri": "https://localhost:8080/"
    },
    "id": "wiKrCYDkOF6a",
    "outputId": "9d7f891c-34b7-45a3-e90a-8269ab9f520d"
   },
   "outputs": [
    {
     "data": {
      "text/plain": [
       "education_level\n",
       "2.0    5148\n",
       "0.0    3542\n",
       "1.0    1412\n",
       "3.0     476\n",
       "Name: count, dtype: int64"
      ]
     },
     "execution_count": 34,
     "metadata": {},
     "output_type": "execute_result"
    }
   ],
   "source": [
    "df.education_level.value_counts() # ordinal Encoder # Lambda"
   ]
  },
  {
   "cell_type": "code",
   "execution_count": 35,
   "metadata": {
    "colab": {
     "base_uri": "https://localhost:8080/"
    },
    "id": "uWis3prFOHI-",
    "outputId": "82c69eb1-34f9-4d14-ecf6-1f648e9d1fee"
   },
   "outputs": [
    {
     "data": {
      "text/plain": [
       "marital_status\n",
       "married     6013\n",
       "single      3307\n",
       "divorced    1258\n",
       "Name: count, dtype: int64"
      ]
     },
     "execution_count": 35,
     "metadata": {},
     "output_type": "execute_result"
    }
   ],
   "source": [
    "df.marital_status.value_counts() #lambda"
   ]
  },
  {
   "cell_type": "code",
   "execution_count": 36,
   "metadata": {
    "id": "DEIZMVNzOI6l"
   },
   "outputs": [],
   "source": [
    "df['marital_status']=list(map(lambda x: 0 if x=='married' else(1 if x=='single' else 2), df['marital_status']))"
   ]
  },
  {
   "cell_type": "code",
   "execution_count": 37,
   "metadata": {
    "colab": {
     "base_uri": "https://localhost:8080/"
    },
    "id": "vJICAMaUOK7R",
    "outputId": "720c3cfe-5376-4e74-d6f7-fb710951f4b0"
   },
   "outputs": [
    {
     "data": {
      "text/plain": [
       "communication_channel\n",
       "mobile          7689\n",
       "unidentified    2179\n",
       "landline         710\n",
       "Name: count, dtype: int64"
      ]
     },
     "execution_count": 37,
     "metadata": {},
     "output_type": "execute_result"
    }
   ],
   "source": [
    "df.communication_channel.value_counts() #Lambda"
   ]
  },
  {
   "cell_type": "code",
   "execution_count": 39,
   "metadata": {
    "colab": {
     "base_uri": "https://localhost:8080/"
    },
    "id": "pSaO3T87OMob",
    "outputId": "caa32954-89b0-4b98-e052-8dbb95abdd2d"
   },
   "outputs": [
    {
     "data": {
      "text/plain": [
       "call_month\n",
       "May          2643\n",
       "July         1466\n",
       "August       1367\n",
       "June         1179\n",
       "April         906\n",
       "November      880\n",
       "February      739\n",
       "October       389\n",
       "January       313\n",
       "September     312\n",
       "March         270\n",
       "December      114\n",
       "Name: count, dtype: int64"
      ]
     },
     "execution_count": 39,
     "metadata": {},
     "output_type": "execute_result"
    }
   ],
   "source": [
    "df.call_month.value_counts() # label\n"
   ]
  },
  {
   "cell_type": "markdown",
   "metadata": {
    "id": "pPn8J8DXON74"
   },
   "source": [
    "# Label Encoding"
   ]
  },
  {
   "cell_type": "code",
   "execution_count": 40,
   "metadata": {
    "id": "VOvES1OzORQr"
   },
   "outputs": [],
   "source": [
    "from sklearn.preprocessing import LabelEncoder"
   ]
  },
  {
   "cell_type": "code",
   "execution_count": 41,
   "metadata": {
    "id": "kDE3PnZmOTwy"
   },
   "outputs": [],
   "source": [
    "model = LabelEncoder()"
   ]
  },
  {
   "cell_type": "code",
   "execution_count": 42,
   "metadata": {
    "colab": {
     "base_uri": "https://localhost:8080/"
    },
    "id": "E3ureAoROVEp",
    "outputId": "1ef36f9e-e18d-4844-a595-0dba653f58e8"
   },
   "outputs": [
    {
     "data": {
      "text/plain": [
       "array([6, 4, 1, ..., 8, 6, 8])"
      ]
     },
     "execution_count": 42,
     "metadata": {},
     "output_type": "execute_result"
    }
   ],
   "source": [
    "model.fit_transform(df['call_month'])"
   ]
  },
  {
   "cell_type": "code",
   "execution_count": 43,
   "metadata": {
    "colab": {
     "base_uri": "https://localhost:8080/"
    },
    "id": "6vOnkAevOWNy",
    "outputId": "86cf7935-37e7-4780-c03f-5791e73c227a"
   },
   "outputs": [
    {
     "data": {
      "text/plain": [
       "array([ 6,  4,  1, 11,  3,  5,  8,  2,  9,  7,  0, 10])"
      ]
     },
     "execution_count": 43,
     "metadata": {},
     "output_type": "execute_result"
    }
   ],
   "source": [
    "df['call_month']= model.fit_transform(df['call_month'])\n",
    "df['call_month'].unique()"
   ]
  },
  {
   "cell_type": "code",
   "execution_count": 44,
   "metadata": {
    "colab": {
     "base_uri": "https://localhost:8080/"
    },
    "id": "Izhc4IwcOYm_",
    "outputId": "86b921df-c61b-4e96-a011-e241e824f442"
   },
   "outputs": [
    {
     "data": {
      "text/plain": [
       "previous_campaign_outcome\n",
       "unidentified     7793\n",
       "unsuccessful     1184\n",
       "successful       1077\n",
       "other_outcome     524\n",
       "Name: count, dtype: int64"
      ]
     },
     "execution_count": 44,
     "metadata": {},
     "output_type": "execute_result"
    }
   ],
   "source": [
    "df.previous_campaign_outcome.value_counts() #label"
   ]
  },
  {
   "cell_type": "code",
   "execution_count": 45,
   "metadata": {
    "colab": {
     "base_uri": "https://localhost:8080/"
    },
    "id": "CuHgTiUSOapt",
    "outputId": "28c8cb3e-4371-4c92-a4d5-19d6f8127eee"
   },
   "outputs": [
    {
     "data": {
      "text/plain": [
       "array([2, 3, 2, ..., 2, 2, 1])"
      ]
     },
     "execution_count": 45,
     "metadata": {},
     "output_type": "execute_result"
    }
   ],
   "source": [
    "model.fit_transform(df['previous_campaign_outcome'])\n"
   ]
  },
  {
   "cell_type": "code",
   "execution_count": 46,
   "metadata": {
    "colab": {
     "base_uri": "https://localhost:8080/"
    },
    "id": "PRfNNtgqOcU_",
    "outputId": "7082c14f-42b8-4ec6-9899-eb18645cd8b8"
   },
   "outputs": [
    {
     "data": {
      "text/plain": [
       "0         unidentified\n",
       "1         unsuccessful\n",
       "2         unidentified\n",
       "3        other_outcome\n",
       "4           successful\n",
       "             ...      \n",
       "10573     unidentified\n",
       "10574     unidentified\n",
       "10575     unidentified\n",
       "10576     unidentified\n",
       "10577       successful\n",
       "Name: previous_campaign_outcome, Length: 10578, dtype: object"
      ]
     },
     "execution_count": 46,
     "metadata": {},
     "output_type": "execute_result"
    }
   ],
   "source": [
    "df['previous_campaign_outcome']"
   ]
  },
  {
   "cell_type": "code",
   "execution_count": 47,
   "metadata": {
    "id": "DoX-etnEOeVd"
   },
   "outputs": [],
   "source": [
    "df['previous_campaign_outcome'] = model.fit_transform(df['previous_campaign_outcome'])"
   ]
  },
  {
   "cell_type": "code",
   "execution_count": 48,
   "metadata": {
    "id": "zEE0bSKrOgAW"
   },
   "outputs": [],
   "source": [
    "X = df.drop('conversion_status', axis=1)\n",
    "y = df['conversion_status']"
   ]
  },
  {
   "cell_type": "markdown",
   "metadata": {
    "id": "wOYL8bZmOhd-"
   },
   "source": [
    "# OneHotEncoding"
   ]
  },
  {
   "cell_type": "code",
   "execution_count": 50,
   "metadata": {
    "colab": {
     "base_uri": "https://localhost:8080/",
     "height": 443
    },
    "id": "SV4ipfDsOkVJ",
    "outputId": "00ae70ec-59ac-4878-eb86-b4348e938a76"
   },
   "outputs": [
    {
     "data": {
      "text/html": [
       "<div>\n",
       "<style scoped>\n",
       "    .dataframe tbody tr th:only-of-type {\n",
       "        vertical-align: middle;\n",
       "    }\n",
       "\n",
       "    .dataframe tbody tr th {\n",
       "        vertical-align: top;\n",
       "    }\n",
       "\n",
       "    .dataframe thead th {\n",
       "        text-align: right;\n",
       "    }\n",
       "</style>\n",
       "<table border=\"1\" class=\"dataframe\">\n",
       "  <thead>\n",
       "    <tr style=\"text-align: right;\">\n",
       "      <th></th>\n",
       "      <th>occupation</th>\n",
       "      <th>age</th>\n",
       "      <th>education_level</th>\n",
       "      <th>marital_status</th>\n",
       "      <th>communication_channel</th>\n",
       "      <th>call_month</th>\n",
       "      <th>call_day</th>\n",
       "      <th>call_duration</th>\n",
       "      <th>call_frequency</th>\n",
       "      <th>previous_campaign_outcome</th>\n",
       "      <th>conversion_status</th>\n",
       "    </tr>\n",
       "  </thead>\n",
       "  <tbody>\n",
       "    <tr>\n",
       "      <th>0</th>\n",
       "      <td>service_worker</td>\n",
       "      <td>37</td>\n",
       "      <td>high_school</td>\n",
       "      <td>single</td>\n",
       "      <td>unidentified</td>\n",
       "      <td>June</td>\n",
       "      <td>3</td>\n",
       "      <td>1045</td>\n",
       "      <td>3</td>\n",
       "      <td>unidentified</td>\n",
       "      <td>1</td>\n",
       "    </tr>\n",
       "    <tr>\n",
       "      <th>1</th>\n",
       "      <td>technical_specialist</td>\n",
       "      <td>36</td>\n",
       "      <td>college</td>\n",
       "      <td>married</td>\n",
       "      <td>mobile</td>\n",
       "      <td>January</td>\n",
       "      <td>29</td>\n",
       "      <td>313</td>\n",
       "      <td>1</td>\n",
       "      <td>unsuccessful</td>\n",
       "      <td>1</td>\n",
       "    </tr>\n",
       "    <tr>\n",
       "      <th>2</th>\n",
       "      <td>service_worker</td>\n",
       "      <td>30</td>\n",
       "      <td>college</td>\n",
       "      <td>single</td>\n",
       "      <td>mobile</td>\n",
       "      <td>August</td>\n",
       "      <td>21</td>\n",
       "      <td>1532</td>\n",
       "      <td>2</td>\n",
       "      <td>unidentified</td>\n",
       "      <td>1</td>\n",
       "    </tr>\n",
       "    <tr>\n",
       "      <th>3</th>\n",
       "      <td>executive</td>\n",
       "      <td>35</td>\n",
       "      <td>college</td>\n",
       "      <td>single</td>\n",
       "      <td>mobile</td>\n",
       "      <td>September</td>\n",
       "      <td>4</td>\n",
       "      <td>434</td>\n",
       "      <td>2</td>\n",
       "      <td>other_outcome</td>\n",
       "      <td>1</td>\n",
       "    </tr>\n",
       "    <tr>\n",
       "      <th>4</th>\n",
       "      <td>service_worker</td>\n",
       "      <td>40</td>\n",
       "      <td>high_school</td>\n",
       "      <td>divorced</td>\n",
       "      <td>mobile</td>\n",
       "      <td>February</td>\n",
       "      <td>2</td>\n",
       "      <td>531</td>\n",
       "      <td>1</td>\n",
       "      <td>successful</td>\n",
       "      <td>1</td>\n",
       "    </tr>\n",
       "    <tr>\n",
       "      <th>...</th>\n",
       "      <td>...</td>\n",
       "      <td>...</td>\n",
       "      <td>...</td>\n",
       "      <td>...</td>\n",
       "      <td>...</td>\n",
       "      <td>...</td>\n",
       "      <td>...</td>\n",
       "      <td>...</td>\n",
       "      <td>...</td>\n",
       "      <td>...</td>\n",
       "      <td>...</td>\n",
       "    </tr>\n",
       "    <tr>\n",
       "      <th>10573</th>\n",
       "      <td>jobless</td>\n",
       "      <td>25</td>\n",
       "      <td>elementary_school</td>\n",
       "      <td>single</td>\n",
       "      <td>mobile</td>\n",
       "      <td>April</td>\n",
       "      <td>12</td>\n",
       "      <td>176</td>\n",
       "      <td>3</td>\n",
       "      <td>unidentified</td>\n",
       "      <td>1</td>\n",
       "    </tr>\n",
       "    <tr>\n",
       "      <th>10574</th>\n",
       "      <td>service_worker</td>\n",
       "      <td>47</td>\n",
       "      <td>high_school</td>\n",
       "      <td>married</td>\n",
       "      <td>unidentified</td>\n",
       "      <td>June</td>\n",
       "      <td>3</td>\n",
       "      <td>87</td>\n",
       "      <td>1</td>\n",
       "      <td>unidentified</td>\n",
       "      <td>0</td>\n",
       "    </tr>\n",
       "    <tr>\n",
       "      <th>10575</th>\n",
       "      <td>administrative_staff</td>\n",
       "      <td>28</td>\n",
       "      <td>high_school</td>\n",
       "      <td>divorced</td>\n",
       "      <td>unidentified</td>\n",
       "      <td>May</td>\n",
       "      <td>8</td>\n",
       "      <td>442</td>\n",
       "      <td>2</td>\n",
       "      <td>unidentified</td>\n",
       "      <td>1</td>\n",
       "    </tr>\n",
       "    <tr>\n",
       "      <th>10576</th>\n",
       "      <td>administrative_staff</td>\n",
       "      <td>27</td>\n",
       "      <td>high_school</td>\n",
       "      <td>single</td>\n",
       "      <td>mobile</td>\n",
       "      <td>June</td>\n",
       "      <td>16</td>\n",
       "      <td>66</td>\n",
       "      <td>1</td>\n",
       "      <td>unidentified</td>\n",
       "      <td>0</td>\n",
       "    </tr>\n",
       "    <tr>\n",
       "      <th>10577</th>\n",
       "      <td>manual_worker</td>\n",
       "      <td>41</td>\n",
       "      <td>high_school</td>\n",
       "      <td>married</td>\n",
       "      <td>mobile</td>\n",
       "      <td>May</td>\n",
       "      <td>4</td>\n",
       "      <td>963</td>\n",
       "      <td>1</td>\n",
       "      <td>successful</td>\n",
       "      <td>1</td>\n",
       "    </tr>\n",
       "  </tbody>\n",
       "</table>\n",
       "<p>10578 rows × 11 columns</p>\n",
       "</div>"
      ],
      "text/plain": [
       "                 occupation  age    education_level marital_status  \\\n",
       "0            service_worker   37        high_school         single   \n",
       "1      technical_specialist   36            college        married   \n",
       "2            service_worker   30            college         single   \n",
       "3                 executive   35            college         single   \n",
       "4            service_worker   40        high_school       divorced   \n",
       "...                     ...  ...                ...            ...   \n",
       "10573               jobless   25  elementary_school         single   \n",
       "10574        service_worker   47        high_school        married   \n",
       "10575  administrative_staff   28        high_school       divorced   \n",
       "10576  administrative_staff   27        high_school         single   \n",
       "10577         manual_worker   41        high_school        married   \n",
       "\n",
       "      communication_channel call_month  call_day  call_duration  \\\n",
       "0              unidentified       June         3           1045   \n",
       "1                    mobile    January        29            313   \n",
       "2                    mobile     August        21           1532   \n",
       "3                    mobile  September         4            434   \n",
       "4                    mobile   February         2            531   \n",
       "...                     ...        ...       ...            ...   \n",
       "10573                mobile      April        12            176   \n",
       "10574          unidentified       June         3             87   \n",
       "10575          unidentified        May         8            442   \n",
       "10576                mobile       June        16             66   \n",
       "10577                mobile        May         4            963   \n",
       "\n",
       "       call_frequency previous_campaign_outcome  conversion_status  \n",
       "0                   3              unidentified                  1  \n",
       "1                   1              unsuccessful                  1  \n",
       "2                   2              unidentified                  1  \n",
       "3                   2             other_outcome                  1  \n",
       "4                   1                successful                  1  \n",
       "...               ...                       ...                ...  \n",
       "10573               3              unidentified                  1  \n",
       "10574               1              unidentified                  0  \n",
       "10575               2              unidentified                  1  \n",
       "10576               1              unidentified                  0  \n",
       "10577               1                successful                  1  \n",
       "\n",
       "[10578 rows x 11 columns]"
      ]
     },
     "execution_count": 50,
     "metadata": {},
     "output_type": "execute_result"
    }
   ],
   "source": [
    "df=pd.read_csv(\"balanced_policy.csv\")\n",
    "df"
   ]
  },
  {
   "cell_type": "code",
   "execution_count": 51,
   "metadata": {
    "colab": {
     "base_uri": "https://localhost:8080/"
    },
    "id": "880CgiwWOmx6",
    "outputId": "465a866b-ad6c-44a6-d679-dae3950eed68"
   },
   "outputs": [
    {
     "data": {
      "text/plain": [
       "conversion_status\n",
       "1    5289\n",
       "0    5289\n",
       "Name: count, dtype: int64"
      ]
     },
     "execution_count": 51,
     "metadata": {},
     "output_type": "execute_result"
    }
   ],
   "source": [
    "df['conversion_status'].value_counts()"
   ]
  },
  {
   "cell_type": "code",
   "execution_count": 52,
   "metadata": {
    "colab": {
     "base_uri": "https://localhost:8080/"
    },
    "id": "wAa0E-5AOrRr",
    "outputId": "5ceb42ca-dc8f-43d6-c89a-83cc165991a1"
   },
   "outputs": [
    {
     "data": {
      "text/plain": [
       "conversion_status\n",
       "1    5289\n",
       "0    5289\n",
       "Name: count, dtype: int64"
      ]
     },
     "execution_count": 52,
     "metadata": {},
     "output_type": "execute_result"
    }
   ],
   "source": [
    "df['conversion_status'].value_counts()"
   ]
  },
  {
   "cell_type": "markdown",
   "metadata": {
    "id": "uzSS0wfVOvw5"
   },
   "source": [
    "# Train Test splite"
   ]
  },
  {
   "cell_type": "code",
   "execution_count": 53,
   "metadata": {
    "id": "vrn458GbOvHG"
   },
   "outputs": [],
   "source": [
    "from sklearn.model_selection import train_test_split"
   ]
  },
  {
   "cell_type": "code",
   "execution_count": 54,
   "metadata": {
    "id": "y9TCGKP7OyWI"
   },
   "outputs": [],
   "source": [
    "X_train , X_test, y_train, y_test = train_test_split(X, y, train_size=0.75, random_state=98)"
   ]
  },
  {
   "cell_type": "code",
   "execution_count": 55,
   "metadata": {
    "colab": {
     "base_uri": "https://localhost:8080/"
    },
    "id": "Y4mntvnfO0fe",
    "outputId": "22f81153-0928-4f03-bddb-1ccf4b078c05"
   },
   "outputs": [
    {
     "data": {
      "text/plain": [
       "(7933, 20)"
      ]
     },
     "execution_count": 55,
     "metadata": {},
     "output_type": "execute_result"
    }
   ],
   "source": [
    "X_train.shape"
   ]
  },
  {
   "cell_type": "code",
   "execution_count": 56,
   "metadata": {
    "colab": {
     "base_uri": "https://localhost:8080/"
    },
    "id": "AdrFfk5QO1vN",
    "outputId": "f1377dfc-7af5-46a9-97ab-c25c66405e0f"
   },
   "outputs": [
    {
     "data": {
      "text/plain": [
       "(2645, 20)"
      ]
     },
     "execution_count": 56,
     "metadata": {},
     "output_type": "execute_result"
    }
   ],
   "source": [
    "X_test.shape"
   ]
  },
  {
   "cell_type": "markdown",
   "metadata": {
    "id": "fyJnXa33O3yu"
   },
   "source": [
    "# Decision Tree"
   ]
  },
  {
   "cell_type": "code",
   "execution_count": 58,
   "metadata": {
    "colab": {
     "base_uri": "https://localhost:8080/",
     "height": 443
    },
    "id": "vpdFpLnoO3XT",
    "outputId": "633aa90a-e84e-4943-cb89-54035bbc4444"
   },
   "outputs": [
    {
     "data": {
      "text/html": [
       "<div>\n",
       "<style scoped>\n",
       "    .dataframe tbody tr th:only-of-type {\n",
       "        vertical-align: middle;\n",
       "    }\n",
       "\n",
       "    .dataframe tbody tr th {\n",
       "        vertical-align: top;\n",
       "    }\n",
       "\n",
       "    .dataframe thead th {\n",
       "        text-align: right;\n",
       "    }\n",
       "</style>\n",
       "<table border=\"1\" class=\"dataframe\">\n",
       "  <thead>\n",
       "    <tr style=\"text-align: right;\">\n",
       "      <th></th>\n",
       "      <th>occupation</th>\n",
       "      <th>age</th>\n",
       "      <th>education_level</th>\n",
       "      <th>marital_status</th>\n",
       "      <th>communication_channel</th>\n",
       "      <th>call_month</th>\n",
       "      <th>call_day</th>\n",
       "      <th>call_duration</th>\n",
       "      <th>call_frequency</th>\n",
       "      <th>previous_campaign_outcome</th>\n",
       "      <th>conversion_status</th>\n",
       "    </tr>\n",
       "  </thead>\n",
       "  <tbody>\n",
       "    <tr>\n",
       "      <th>0</th>\n",
       "      <td>service_worker</td>\n",
       "      <td>37</td>\n",
       "      <td>high_school</td>\n",
       "      <td>single</td>\n",
       "      <td>unidentified</td>\n",
       "      <td>June</td>\n",
       "      <td>3</td>\n",
       "      <td>1045</td>\n",
       "      <td>3</td>\n",
       "      <td>unidentified</td>\n",
       "      <td>1</td>\n",
       "    </tr>\n",
       "    <tr>\n",
       "      <th>1</th>\n",
       "      <td>technical_specialist</td>\n",
       "      <td>36</td>\n",
       "      <td>college</td>\n",
       "      <td>married</td>\n",
       "      <td>mobile</td>\n",
       "      <td>January</td>\n",
       "      <td>29</td>\n",
       "      <td>313</td>\n",
       "      <td>1</td>\n",
       "      <td>unsuccessful</td>\n",
       "      <td>1</td>\n",
       "    </tr>\n",
       "    <tr>\n",
       "      <th>2</th>\n",
       "      <td>service_worker</td>\n",
       "      <td>30</td>\n",
       "      <td>college</td>\n",
       "      <td>single</td>\n",
       "      <td>mobile</td>\n",
       "      <td>August</td>\n",
       "      <td>21</td>\n",
       "      <td>1532</td>\n",
       "      <td>2</td>\n",
       "      <td>unidentified</td>\n",
       "      <td>1</td>\n",
       "    </tr>\n",
       "    <tr>\n",
       "      <th>3</th>\n",
       "      <td>executive</td>\n",
       "      <td>35</td>\n",
       "      <td>college</td>\n",
       "      <td>single</td>\n",
       "      <td>mobile</td>\n",
       "      <td>September</td>\n",
       "      <td>4</td>\n",
       "      <td>434</td>\n",
       "      <td>2</td>\n",
       "      <td>other_outcome</td>\n",
       "      <td>1</td>\n",
       "    </tr>\n",
       "    <tr>\n",
       "      <th>4</th>\n",
       "      <td>service_worker</td>\n",
       "      <td>40</td>\n",
       "      <td>high_school</td>\n",
       "      <td>divorced</td>\n",
       "      <td>mobile</td>\n",
       "      <td>February</td>\n",
       "      <td>2</td>\n",
       "      <td>531</td>\n",
       "      <td>1</td>\n",
       "      <td>successful</td>\n",
       "      <td>1</td>\n",
       "    </tr>\n",
       "    <tr>\n",
       "      <th>...</th>\n",
       "      <td>...</td>\n",
       "      <td>...</td>\n",
       "      <td>...</td>\n",
       "      <td>...</td>\n",
       "      <td>...</td>\n",
       "      <td>...</td>\n",
       "      <td>...</td>\n",
       "      <td>...</td>\n",
       "      <td>...</td>\n",
       "      <td>...</td>\n",
       "      <td>...</td>\n",
       "    </tr>\n",
       "    <tr>\n",
       "      <th>10573</th>\n",
       "      <td>jobless</td>\n",
       "      <td>25</td>\n",
       "      <td>elementary_school</td>\n",
       "      <td>single</td>\n",
       "      <td>mobile</td>\n",
       "      <td>April</td>\n",
       "      <td>12</td>\n",
       "      <td>176</td>\n",
       "      <td>3</td>\n",
       "      <td>unidentified</td>\n",
       "      <td>1</td>\n",
       "    </tr>\n",
       "    <tr>\n",
       "      <th>10574</th>\n",
       "      <td>service_worker</td>\n",
       "      <td>47</td>\n",
       "      <td>high_school</td>\n",
       "      <td>married</td>\n",
       "      <td>unidentified</td>\n",
       "      <td>June</td>\n",
       "      <td>3</td>\n",
       "      <td>87</td>\n",
       "      <td>1</td>\n",
       "      <td>unidentified</td>\n",
       "      <td>0</td>\n",
       "    </tr>\n",
       "    <tr>\n",
       "      <th>10575</th>\n",
       "      <td>administrative_staff</td>\n",
       "      <td>28</td>\n",
       "      <td>high_school</td>\n",
       "      <td>divorced</td>\n",
       "      <td>unidentified</td>\n",
       "      <td>May</td>\n",
       "      <td>8</td>\n",
       "      <td>442</td>\n",
       "      <td>2</td>\n",
       "      <td>unidentified</td>\n",
       "      <td>1</td>\n",
       "    </tr>\n",
       "    <tr>\n",
       "      <th>10576</th>\n",
       "      <td>administrative_staff</td>\n",
       "      <td>27</td>\n",
       "      <td>high_school</td>\n",
       "      <td>single</td>\n",
       "      <td>mobile</td>\n",
       "      <td>June</td>\n",
       "      <td>16</td>\n",
       "      <td>66</td>\n",
       "      <td>1</td>\n",
       "      <td>unidentified</td>\n",
       "      <td>0</td>\n",
       "    </tr>\n",
       "    <tr>\n",
       "      <th>10577</th>\n",
       "      <td>manual_worker</td>\n",
       "      <td>41</td>\n",
       "      <td>high_school</td>\n",
       "      <td>married</td>\n",
       "      <td>mobile</td>\n",
       "      <td>May</td>\n",
       "      <td>4</td>\n",
       "      <td>963</td>\n",
       "      <td>1</td>\n",
       "      <td>successful</td>\n",
       "      <td>1</td>\n",
       "    </tr>\n",
       "  </tbody>\n",
       "</table>\n",
       "<p>10578 rows × 11 columns</p>\n",
       "</div>"
      ],
      "text/plain": [
       "                 occupation  age    education_level marital_status  \\\n",
       "0            service_worker   37        high_school         single   \n",
       "1      technical_specialist   36            college        married   \n",
       "2            service_worker   30            college         single   \n",
       "3                 executive   35            college         single   \n",
       "4            service_worker   40        high_school       divorced   \n",
       "...                     ...  ...                ...            ...   \n",
       "10573               jobless   25  elementary_school         single   \n",
       "10574        service_worker   47        high_school        married   \n",
       "10575  administrative_staff   28        high_school       divorced   \n",
       "10576  administrative_staff   27        high_school         single   \n",
       "10577         manual_worker   41        high_school        married   \n",
       "\n",
       "      communication_channel call_month  call_day  call_duration  \\\n",
       "0              unidentified       June         3           1045   \n",
       "1                    mobile    January        29            313   \n",
       "2                    mobile     August        21           1532   \n",
       "3                    mobile  September         4            434   \n",
       "4                    mobile   February         2            531   \n",
       "...                     ...        ...       ...            ...   \n",
       "10573                mobile      April        12            176   \n",
       "10574          unidentified       June         3             87   \n",
       "10575          unidentified        May         8            442   \n",
       "10576                mobile       June        16             66   \n",
       "10577                mobile        May         4            963   \n",
       "\n",
       "       call_frequency previous_campaign_outcome  conversion_status  \n",
       "0                   3              unidentified                  1  \n",
       "1                   1              unsuccessful                  1  \n",
       "2                   2              unidentified                  1  \n",
       "3                   2             other_outcome                  1  \n",
       "4                   1                successful                  1  \n",
       "...               ...                       ...                ...  \n",
       "10573               3              unidentified                  1  \n",
       "10574               1              unidentified                  0  \n",
       "10575               2              unidentified                  1  \n",
       "10576               1              unidentified                  0  \n",
       "10577               1                successful                  1  \n",
       "\n",
       "[10578 rows x 11 columns]"
      ]
     },
     "execution_count": 58,
     "metadata": {},
     "output_type": "execute_result"
    }
   ],
   "source": [
    "import pandas as pd\n",
    "import numpy as np\n",
    "\n",
    "# data visualization library\n",
    "import matplotlib\n",
    "import matplotlib.pyplot as plt\n",
    "import seaborn as sns\n",
    "\n",
    "sns.set(context='notebook', style='darkgrid', palette='colorblind', font='sans-serif', font_scale=1, rc=None)\n",
    "matplotlib.rcParams['figure.figsize'] =[8,8]\n",
    "matplotlib.rcParams.update({'font.size': 15})\n",
    "matplotlib.rcParams['font.family'] = 'sans-serif'\n",
    "df=pd.read_csv(\"balanced_policy.csv\")\n",
    "df"
   ]
  },
  {
   "cell_type": "code",
   "execution_count": 59,
   "metadata": {
    "colab": {
     "base_uri": "https://localhost:8080/"
    },
    "id": "EtsXVFHuO8-j",
    "outputId": "c0d5964a-1390-4f94-f239-2ccf94be7b15"
   },
   "outputs": [
    {
     "data": {
      "text/plain": [
       "np.int64(0)"
      ]
     },
     "execution_count": 59,
     "metadata": {},
     "output_type": "execute_result"
    }
   ],
   "source": [
    "df.isnull().sum().sum()"
   ]
  },
  {
   "cell_type": "code",
   "execution_count": 60,
   "metadata": {
    "colab": {
     "base_uri": "https://localhost:8080/"
    },
    "id": "GlSMMnEVO_Ic",
    "outputId": "64078d4b-4142-4ec4-cdcf-42d646d5d3a7"
   },
   "outputs": [
    {
     "data": {
      "text/plain": [
       "array(['unidentified', 'unsuccessful', 'other_outcome', 'successful'],\n",
       "      dtype=object)"
      ]
     },
     "execution_count": 60,
     "metadata": {},
     "output_type": "execute_result"
    }
   ],
   "source": [
    "df['previous_campaign_outcome'].unique()"
   ]
  },
  {
   "cell_type": "code",
   "execution_count": 61,
   "metadata": {
    "colab": {
     "base_uri": "https://localhost:8080/"
    },
    "id": "hgkfREfHPCIW",
    "outputId": "cf682641-4e68-47b3-b69d-c33decf9fe8e"
   },
   "outputs": [
    {
     "name": "stdout",
     "output_type": "stream",
     "text": [
      "<class 'pandas.core.frame.DataFrame'>\n",
      "RangeIndex: 10578 entries, 0 to 10577\n",
      "Data columns (total 11 columns):\n",
      " #   Column                     Non-Null Count  Dtype \n",
      "---  ------                     --------------  ----- \n",
      " 0   occupation                 10578 non-null  object\n",
      " 1   age                        10578 non-null  int64 \n",
      " 2   education_level            10578 non-null  object\n",
      " 3   marital_status             10578 non-null  object\n",
      " 4   communication_channel      10578 non-null  object\n",
      " 5   call_month                 10578 non-null  object\n",
      " 6   call_day                   10578 non-null  int64 \n",
      " 7   call_duration              10578 non-null  int64 \n",
      " 8   call_frequency             10578 non-null  int64 \n",
      " 9   previous_campaign_outcome  10578 non-null  object\n",
      " 10  conversion_status          10578 non-null  int64 \n",
      "dtypes: int64(5), object(6)\n",
      "memory usage: 909.2+ KB\n"
     ]
    }
   ],
   "source": [
    "df.info()"
   ]
  },
  {
   "cell_type": "code",
   "execution_count": 62,
   "metadata": {
    "colab": {
     "base_uri": "https://localhost:8080/"
    },
    "id": "n8ELfcqBPEPA",
    "outputId": "7926b2d6-b0de-47b9-ec28-b298d5a543b4"
   },
   "outputs": [
    {
     "data": {
      "text/plain": [
       "(10578, 11)"
      ]
     },
     "execution_count": 62,
     "metadata": {},
     "output_type": "execute_result"
    }
   ],
   "source": [
    "df.shape"
   ]
  },
  {
   "cell_type": "code",
   "execution_count": 63,
   "metadata": {
    "colab": {
     "base_uri": "https://localhost:8080/",
     "height": 647
    },
    "id": "rpKIh5BzPGYv",
    "outputId": "7a2884ac-706b-4adf-da5c-6c0a387c97fe"
   },
   "outputs": [
    {
     "data": {
      "text/plain": [
       "<Axes: xlabel='previous_campaign_outcome', ylabel='Count'>"
      ]
     },
     "execution_count": 63,
     "metadata": {},
     "output_type": "execute_result"
    },
    {
     "data": {
      "image/png": "[encoded data removed]",
      "text/plain": [
       "<Figure size 800x800 with 1 Axes>"
      ]
     },
     "metadata": {},
     "output_type": "display_data"
    }
   ],
   "source": [
    "sns.histplot(df['previous_campaign_outcome'])"
   ]
  },
  {
   "cell_type": "code",
   "execution_count": 64,
   "metadata": {
    "id": "hbIIg8xCPIzm"
   },
   "outputs": [],
   "source": [
    "X = df.drop(['previous_campaign_outcome'],axis=1)\n",
    "y = df['previous_campaign_outcome']"
   ]
  },
  {
   "cell_type": "code",
   "execution_count": 65,
   "metadata": {
    "id": "Ms_XPWZRPKu3"
   },
   "outputs": [],
   "source": [
    "X = pd.get_dummies(X)"
   ]
  },
  {
   "cell_type": "markdown",
   "metadata": {
    "id": "ta4VX2Z0PL41"
   },
   "source": [
    "# Encoding"
   ]
  },
  {
   "cell_type": "code",
   "execution_count": 66,
   "metadata": {
    "colab": {
     "base_uri": "https://localhost:8080/"
    },
    "id": "O8VTOtWzPNsy",
    "outputId": "7e7878e0-7d84-46f5-deba-7673479a7bfa"
   },
   "outputs": [
    {
     "name": "stdout",
     "output_type": "stream",
     "text": [
      "[2 3 2 ... 2 2 1]\n"
     ]
    }
   ],
   "source": [
    "from sklearn.preprocessing import LabelEncoder\n",
    "\n",
    "encoder = LabelEncoder()\n",
    "y = encoder.fit_transform(y)\n",
    "print(y)"
   ]
  },
  {
   "cell_type": "code",
   "execution_count": 67,
   "metadata": {
    "id": "nN2Llg9lPSiB"
   },
   "outputs": [],
   "source": [
    "from sklearn.tree import DecisionTreeClassifier\n",
    "from sklearn import tree"
   ]
  },
  {
   "cell_type": "code",
   "execution_count": 68,
   "metadata": {
    "id": "FneVNP54PUY_"
   },
   "outputs": [],
   "source": [
    "from sklearn.metrics import accuracy_score"
   ]
  },
  {
   "cell_type": "code",
   "execution_count": 70,
   "metadata": {
    "colab": {
     "base_uri": "https://localhost:8080/"
    },
    "id": "ic-4PCo1PWAf",
    "outputId": "ef001003-4534-4b17-ff42-4ad914ddc306"
   },
   "outputs": [
    {
     "name": "stdout",
     "output_type": "stream",
     "text": [
      "Accuracy: 0.7296786389413988\n"
     ]
    }
   ],
   "source": [
    "import pandas as pd\n",
    "from sklearn.model_selection import train_test_split\n",
    "from sklearn.tree import DecisionTreeClassifier\n",
    "from sklearn.metrics import accuracy_score\n",
    "\n",
    "# Assume X_train, X_test, y_train, y_test are your training and testing data\n",
    "# Split data into training and testing sets\n",
    "X_train, X_test, y_train, y_test = train_test_split(X, y, test_size=0.2, random_state=0)\n",
    "\n",
    "# Assume 'X_train' and 'X_test' are DataFrames with categorical variables\n",
    "# Perform one-hot encoding on categorical variables\n",
    "X_train_encoded = pd.get_dummies(X_train)\n",
    "X_test_encoded = pd.get_dummies(X_test)\n",
    "\n",
    "# Instantiate the DecisionTreeClassifier with the desired parameters\n",
    "clf_gini = DecisionTreeClassifier(criterion='gini', max_depth=3, random_state=0)\n",
    "\n",
    "# Fit the model\n",
    "clf_gini.fit(X_train_encoded, y_train)\n",
    "\n",
    "# Make predictions on the testing data\n",
    "y_pred = clf_gini.predict(X_test_encoded)\n",
    "\n",
    "# Compute accuracy\n",
    "accuracy = accuracy_score(y_test, y_pred)\n",
    "print('Accuracy:', accuracy)\n"
   ]
  },
  {
   "cell_type": "code",
   "execution_count": 71,
   "metadata": {
    "colab": {
     "base_uri": "https://localhost:8080/",
     "height": 848
    },
    "id": "YEip4wfzPxGv",
    "outputId": "721214bf-8af0-457a-8ac9-227f1b2c1b6c"
   },
   "outputs": [
    {
     "data": {
      "text/plain": [
       "[Text(0.5416666666666666, 0.875, 'x[26] <= 0.5\\ngini = 0.43\\nsamples = 8462\\nvalue = [418, 846, 6248, 950]'),\n",
       " Text(0.3333333333333333, 0.625, 'x[4] <= 0.5\\ngini = 0.509\\nsamples = 6704\\nvalue = [411.0, 842.0, 4506.0, 945.0]'),\n",
       " Text(0.4375, 0.75, 'True  '),\n",
       " Text(0.16666666666666666, 0.375, 'x[32] <= 0.5\\ngini = 0.391\\nsamples = 2946\\nvalue = [172, 81, 2248, 445]'),\n",
       " Text(0.08333333333333333, 0.125, 'gini = 0.465\\nsamples = 2283\\nvalue = [170, 77, 1601, 435]'),\n",
       " Text(0.25, 0.125, 'gini = 0.047\\nsamples = 663\\nvalue = [2, 4, 647, 10]'),\n",
       " Text(0.5, 0.375, 'x[2] <= 526.5\\ngini = 0.576\\nsamples = 3758\\nvalue = [239.0, 761.0, 2258.0, 500.0]'),\n",
       " Text(0.4166666666666667, 0.125, 'gini = 0.632\\nsamples = 2403\\nvalue = [169.0, 630.0, 1258.0, 346.0]'),\n",
       " Text(0.5833333333333334, 0.125, 'gini = 0.43\\nsamples = 1355\\nvalue = [70, 131, 1000, 154]'),\n",
       " Text(0.75, 0.625, 'x[2] <= 4.5\\ngini = 0.018\\nsamples = 1758\\nvalue = [7.0, 4.0, 1742.0, 5.0]'),\n",
       " Text(0.6458333333333333, 0.75, '  False'),\n",
       " Text(0.6666666666666666, 0.375, 'gini = 0.0\\nsamples = 1\\nvalue = [1, 0, 0, 0]'),\n",
       " Text(0.8333333333333334, 0.375, 'x[38] <= 0.5\\ngini = 0.017\\nsamples = 1757\\nvalue = [6, 4, 1742, 5]'),\n",
       " Text(0.75, 0.125, 'gini = 0.014\\nsamples = 1749\\nvalue = [4, 4, 1737, 4]'),\n",
       " Text(0.9166666666666666, 0.125, 'gini = 0.531\\nsamples = 8\\nvalue = [2, 0, 5, 1]')]"
      ]
     },
     "execution_count": 71,
     "metadata": {},
     "output_type": "execute_result"
    },
    {
     "data": {
      "image/png": "[encoded data removed]",
      "text/plain": [
       "<Figure size 1200x800 with 1 Axes>"
      ]
     },
     "metadata": {},
     "output_type": "display_data"
    }
   ],
   "source": [
    "plt.figure(figsize=(12,8))\n",
    "\n",
    "tree.plot_tree(clf_gini.fit(X_train, y_train))"
   ]
  },
  {
   "cell_type": "code",
   "execution_count": 72,
   "metadata": {
    "id": "G9Fjp16hP3Qt"
   },
   "outputs": [],
   "source": [
    "#Predict the values\n",
    "y_pred_gini = clf_gini.predict(X_test)"
   ]
  },
  {
   "cell_type": "code",
   "execution_count": 73,
   "metadata": {
    "colab": {
     "base_uri": "https://localhost:8080/"
    },
    "id": "jUZ3NOqfP8tG",
    "outputId": "ea9c5f34-15dd-4284-b86a-1249cf20bddf"
   },
   "outputs": [
    {
     "data": {
      "text/plain": [
       "array([2, 2, 2, ..., 2, 2, 2])"
      ]
     },
     "execution_count": 73,
     "metadata": {},
     "output_type": "execute_result"
    }
   ],
   "source": [
    "#Predict the value using X train for accuracy comparision\n",
    "y_pred_train_gini = clf_gini.predict(X_train)\n",
    "\n",
    "y_pred_train_gini"
   ]
  },
  {
   "cell_type": "code",
   "execution_count": 74,
   "metadata": {
    "colab": {
     "base_uri": "https://localhost:8080/"
    },
    "id": "2EPaLxfxP-Ui",
    "outputId": "0dcfe77b-ea41-4ba4-9f40-623cd345eb4a"
   },
   "outputs": [
    {
     "name": "stdout",
     "output_type": "stream",
     "text": [
      "Model accuracy score with criterion gini index: 0.7297\n",
      "Training-set accuracy score: 0.7385\n"
     ]
    }
   ],
   "source": [
    "#Determine the accuracy score\n",
    "print('Model accuracy score with criterion gini index: {0:0.4f}'. format(accuracy_score(y_test, y_pred_gini)))\n",
    "#Accuracy Score for training set\n",
    "accuracy_Decision_tree=accuracy_score(y_test, y_pred_gini)\n",
    "\n",
    "print('Training-set accuracy score: {0:0.4f}'. format(accuracy_score(y_train, y_pred_train_gini)))\n"
   ]
  },
  {
   "cell_type": "code",
   "execution_count": 75,
   "metadata": {
    "colab": {
     "base_uri": "https://localhost:8080/"
    },
    "id": "ehvaf2FYQDsT",
    "outputId": "8adb2cd6-cdd5-4ec3-f198-e3c33892080b"
   },
   "outputs": [
    {
     "name": "stdout",
     "output_type": "stream",
     "text": [
      "Confusion matrix\n",
      "\n",
      " [[   0    0  106    0]\n",
      " [   0    0  231    0]\n",
      " [   1    0 1544    0]\n",
      " [   0    0  234    0]]\n"
     ]
    }
   ],
   "source": [
    "from sklearn.metrics import confusion_matrix\n",
    "\n",
    "# Assuming y_test and y_pred_gini are already defined\n",
    "cm = confusion_matrix(y_test, y_pred_gini)\n",
    "\n",
    "print('Confusion matrix\\n\\n', cm)"
   ]
  },
  {
   "cell_type": "code",
   "execution_count": 76,
   "metadata": {
    "colab": {
     "base_uri": "https://localhost:8080/",
     "height": 696
    },
    "id": "2-X_KkgYQFft",
    "outputId": "f73cc417-d5cb-4606-ac10-9d50e0b00f68"
   },
   "outputs": [
    {
     "data": {
      "image/png": "[encoded data removed]",
      "text/plain": [
       "<Figure size 1000x1000 with 2 Axes>"
      ]
     },
     "metadata": {},
     "output_type": "display_data"
    },
    {
     "data": {
      "text/plain": [
       "<Figure size 800x800 with 0 Axes>"
      ]
     },
     "metadata": {},
     "output_type": "display_data"
    }
   ],
   "source": [
    "f,ax = plt.subplots(figsize=(10, 10))\n",
    "sns.heatmap(cm, annot=True, linewidths=0.5,linecolor=\"red\", fmt= '.0f',ax=ax)\n",
    "plt.show()\n",
    "plt.savefig('ConfusionMatrix.png')"
   ]
  },
  {
   "cell_type": "markdown",
   "metadata": {
    "id": "tEErf-MEujQR"
   },
   "source": [
    "# Random Forest and Decsion Tree Accuracy"
   ]
  },
  {
   "cell_type": "code",
   "execution_count": 77,
   "metadata": {
    "colab": {
     "base_uri": "https://localhost:8080/"
    },
    "id": "yRm6qi8KGUaU",
    "outputId": "ed61ab01-e5cd-4eff-8cf3-b0eaffb0091a"
   },
   "outputs": [
    {
     "name": "stdout",
     "output_type": "stream",
     "text": [
      "Decision Tree Metrics:\n",
      "F1 Score: 0.6305864997230617\n",
      "R2 Score: -0.9780585975908049\n",
      "Recall: 0.6342155009451795\n",
      "Accuracy: 0.6342155009451795\n",
      "\n",
      "Random Forest Metrics:\n",
      "F1 Score: 0.6622103409571753\n",
      "R2 Score: -0.1774971732348256\n",
      "Recall: 0.7329867674858223\n",
      "Accuracy: 0.7329867674858223\n"
     ]
    }
   ],
   "source": [
    "from sklearn.model_selection import train_test_split\n",
    "from sklearn.tree import DecisionTreeClassifier\n",
    "from sklearn.ensemble import RandomForestClassifier\n",
    "from sklearn.metrics import f1_score, r2_score, recall_score, accuracy_score\n",
    "\n",
    "# Assuming X contains features and y contains the target variable\n",
    "\n",
    "# Step 2: Split data into training and testing sets\n",
    "X_train, X_test, y_train, y_test = train_test_split(X, y, test_size=0.2, random_state=42)\n",
    "\n",
    "# Step 3: Train Decision Tree and Random Forest models\n",
    "decision_tree_classifier = DecisionTreeClassifier()\n",
    "random_forest_classifier = RandomForestClassifier()\n",
    "\n",
    "decision_tree_classifier.fit(X_train, y_train)\n",
    "random_forest_classifier.fit(X_train, y_train)\n",
    "\n",
    "# Step 4: Make predictions\n",
    "decision_tree_predictions = decision_tree_classifier.predict(X_test)\n",
    "random_forest_predictions = random_forest_classifier.predict(X_test)\n",
    "\n",
    "# Step 5: Calculate metrics\n",
    "decision_tree_f1 = f1_score(y_test, decision_tree_predictions, average='weighted')\n",
    "random_forest_f1 = f1_score(y_test, random_forest_predictions, average='weighted')\n",
    "\n",
    "decision_tree_r2 = r2_score(y_test, decision_tree_predictions)\n",
    "random_forest_r2 = r2_score(y_test, random_forest_predictions)\n",
    "\n",
    "decision_tree_recall = recall_score(y_test, decision_tree_predictions, average='weighted')\n",
    "random_forest_recall = recall_score(y_test, random_forest_predictions, average='weighted')\n",
    "\n",
    "decision_tree_accuracy = accuracy_score(y_test, decision_tree_predictions)\n",
    "random_forest_accuracy = accuracy_score(y_test, random_forest_predictions)\n",
    "\n",
    "# Print the results\n",
    "print(\"Decision Tree Metrics:\")\n",
    "print(\"F1 Score:\", decision_tree_f1)\n",
    "print(\"R2 Score:\", decision_tree_r2)\n",
    "print(\"Recall:\", decision_tree_recall)\n",
    "print(\"Accuracy:\", decision_tree_accuracy)\n",
    "\n",
    "print(\"\\nRandom Forest Metrics:\")\n",
    "print(\"F1 Score:\", random_forest_f1)\n",
    "print(\"R2 Score:\", random_forest_r2)\n",
    "print(\"Recall:\", random_forest_recall)\n",
    "print(\"Accuracy:\", random_forest_accuracy)\n"
   ]
  },
  {
   "cell_type": "code",
   "execution_count": 87,
   "metadata": {},
   "outputs": [
    {
     "data": {
      "text/html": [
       "<div>\n",
       "<style scoped>\n",
       "    .dataframe tbody tr th:only-of-type {\n",
       "        vertical-align: middle;\n",
       "    }\n",
       "\n",
       "    .dataframe tbody tr th {\n",
       "        vertical-align: top;\n",
       "    }\n",
       "\n",
       "    .dataframe thead th {\n",
       "        text-align: right;\n",
       "    }\n",
       "</style>\n",
       "<table border=\"1\" class=\"dataframe\">\n",
       "  <thead>\n",
       "    <tr style=\"text-align: right;\">\n",
       "      <th></th>\n",
       "      <th>age</th>\n",
       "      <th>call_day</th>\n",
       "      <th>call_duration</th>\n",
       "      <th>call_frequency</th>\n",
       "      <th>conversion_status</th>\n",
       "      <th>occupation_administrative_staff</th>\n",
       "      <th>occupation_business_owner</th>\n",
       "      <th>occupation_domestic_worker</th>\n",
       "      <th>occupation_executive</th>\n",
       "      <th>occupation_independent_worker</th>\n",
       "      <th>...</th>\n",
       "      <th>call_month_December</th>\n",
       "      <th>call_month_February</th>\n",
       "      <th>call_month_January</th>\n",
       "      <th>call_month_July</th>\n",
       "      <th>call_month_June</th>\n",
       "      <th>call_month_March</th>\n",
       "      <th>call_month_May</th>\n",
       "      <th>call_month_November</th>\n",
       "      <th>call_month_October</th>\n",
       "      <th>call_month_September</th>\n",
       "    </tr>\n",
       "  </thead>\n",
       "  <tbody>\n",
       "    <tr>\n",
       "      <th>7116</th>\n",
       "      <td>33</td>\n",
       "      <td>6</td>\n",
       "      <td>112</td>\n",
       "      <td>2</td>\n",
       "      <td>0</td>\n",
       "      <td>True</td>\n",
       "      <td>False</td>\n",
       "      <td>False</td>\n",
       "      <td>False</td>\n",
       "      <td>False</td>\n",
       "      <td>...</td>\n",
       "      <td>False</td>\n",
       "      <td>True</td>\n",
       "      <td>False</td>\n",
       "      <td>False</td>\n",
       "      <td>False</td>\n",
       "      <td>False</td>\n",
       "      <td>False</td>\n",
       "      <td>False</td>\n",
       "      <td>False</td>\n",
       "      <td>False</td>\n",
       "    </tr>\n",
       "    <tr>\n",
       "      <th>8294</th>\n",
       "      <td>30</td>\n",
       "      <td>15</td>\n",
       "      <td>808</td>\n",
       "      <td>3</td>\n",
       "      <td>1</td>\n",
       "      <td>False</td>\n",
       "      <td>True</td>\n",
       "      <td>False</td>\n",
       "      <td>False</td>\n",
       "      <td>False</td>\n",
       "      <td>...</td>\n",
       "      <td>False</td>\n",
       "      <td>False</td>\n",
       "      <td>False</td>\n",
       "      <td>True</td>\n",
       "      <td>False</td>\n",
       "      <td>False</td>\n",
       "      <td>False</td>\n",
       "      <td>False</td>\n",
       "      <td>False</td>\n",
       "      <td>False</td>\n",
       "    </tr>\n",
       "    <tr>\n",
       "      <th>10179</th>\n",
       "      <td>35</td>\n",
       "      <td>29</td>\n",
       "      <td>643</td>\n",
       "      <td>2</td>\n",
       "      <td>1</td>\n",
       "      <td>False</td>\n",
       "      <td>False</td>\n",
       "      <td>False</td>\n",
       "      <td>False</td>\n",
       "      <td>False</td>\n",
       "      <td>...</td>\n",
       "      <td>False</td>\n",
       "      <td>False</td>\n",
       "      <td>False</td>\n",
       "      <td>False</td>\n",
       "      <td>False</td>\n",
       "      <td>False</td>\n",
       "      <td>False</td>\n",
       "      <td>False</td>\n",
       "      <td>False</td>\n",
       "      <td>False</td>\n",
       "    </tr>\n",
       "    <tr>\n",
       "      <th>8842</th>\n",
       "      <td>61</td>\n",
       "      <td>22</td>\n",
       "      <td>269</td>\n",
       "      <td>1</td>\n",
       "      <td>1</td>\n",
       "      <td>False</td>\n",
       "      <td>False</td>\n",
       "      <td>False</td>\n",
       "      <td>True</td>\n",
       "      <td>False</td>\n",
       "      <td>...</td>\n",
       "      <td>False</td>\n",
       "      <td>False</td>\n",
       "      <td>False</td>\n",
       "      <td>False</td>\n",
       "      <td>True</td>\n",
       "      <td>False</td>\n",
       "      <td>False</td>\n",
       "      <td>False</td>\n",
       "      <td>False</td>\n",
       "      <td>False</td>\n",
       "    </tr>\n",
       "    <tr>\n",
       "      <th>2766</th>\n",
       "      <td>41</td>\n",
       "      <td>12</td>\n",
       "      <td>147</td>\n",
       "      <td>2</td>\n",
       "      <td>1</td>\n",
       "      <td>False</td>\n",
       "      <td>False</td>\n",
       "      <td>False</td>\n",
       "      <td>True</td>\n",
       "      <td>False</td>\n",
       "      <td>...</td>\n",
       "      <td>False</td>\n",
       "      <td>False</td>\n",
       "      <td>False</td>\n",
       "      <td>False</td>\n",
       "      <td>False</td>\n",
       "      <td>False</td>\n",
       "      <td>False</td>\n",
       "      <td>False</td>\n",
       "      <td>False</td>\n",
       "      <td>False</td>\n",
       "    </tr>\n",
       "    <tr>\n",
       "      <th>...</th>\n",
       "      <td>...</td>\n",
       "      <td>...</td>\n",
       "      <td>...</td>\n",
       "      <td>...</td>\n",
       "      <td>...</td>\n",
       "      <td>...</td>\n",
       "      <td>...</td>\n",
       "      <td>...</td>\n",
       "      <td>...</td>\n",
       "      <td>...</td>\n",
       "      <td>...</td>\n",
       "      <td>...</td>\n",
       "      <td>...</td>\n",
       "      <td>...</td>\n",
       "      <td>...</td>\n",
       "      <td>...</td>\n",
       "      <td>...</td>\n",
       "      <td>...</td>\n",
       "      <td>...</td>\n",
       "      <td>...</td>\n",
       "      <td>...</td>\n",
       "    </tr>\n",
       "    <tr>\n",
       "      <th>603</th>\n",
       "      <td>35</td>\n",
       "      <td>23</td>\n",
       "      <td>141</td>\n",
       "      <td>2</td>\n",
       "      <td>0</td>\n",
       "      <td>False</td>\n",
       "      <td>False</td>\n",
       "      <td>False</td>\n",
       "      <td>True</td>\n",
       "      <td>False</td>\n",
       "      <td>...</td>\n",
       "      <td>False</td>\n",
       "      <td>True</td>\n",
       "      <td>False</td>\n",
       "      <td>False</td>\n",
       "      <td>False</td>\n",
       "      <td>False</td>\n",
       "      <td>False</td>\n",
       "      <td>False</td>\n",
       "      <td>False</td>\n",
       "      <td>False</td>\n",
       "    </tr>\n",
       "    <tr>\n",
       "      <th>3519</th>\n",
       "      <td>32</td>\n",
       "      <td>28</td>\n",
       "      <td>108</td>\n",
       "      <td>7</td>\n",
       "      <td>0</td>\n",
       "      <td>False</td>\n",
       "      <td>False</td>\n",
       "      <td>False</td>\n",
       "      <td>True</td>\n",
       "      <td>False</td>\n",
       "      <td>...</td>\n",
       "      <td>False</td>\n",
       "      <td>False</td>\n",
       "      <td>False</td>\n",
       "      <td>False</td>\n",
       "      <td>False</td>\n",
       "      <td>False</td>\n",
       "      <td>False</td>\n",
       "      <td>False</td>\n",
       "      <td>False</td>\n",
       "      <td>False</td>\n",
       "    </tr>\n",
       "    <tr>\n",
       "      <th>3252</th>\n",
       "      <td>29</td>\n",
       "      <td>19</td>\n",
       "      <td>30</td>\n",
       "      <td>1</td>\n",
       "      <td>1</td>\n",
       "      <td>True</td>\n",
       "      <td>False</td>\n",
       "      <td>False</td>\n",
       "      <td>False</td>\n",
       "      <td>False</td>\n",
       "      <td>...</td>\n",
       "      <td>False</td>\n",
       "      <td>False</td>\n",
       "      <td>False</td>\n",
       "      <td>False</td>\n",
       "      <td>False</td>\n",
       "      <td>False</td>\n",
       "      <td>True</td>\n",
       "      <td>False</td>\n",
       "      <td>False</td>\n",
       "      <td>False</td>\n",
       "    </tr>\n",
       "    <tr>\n",
       "      <th>8746</th>\n",
       "      <td>30</td>\n",
       "      <td>20</td>\n",
       "      <td>51</td>\n",
       "      <td>7</td>\n",
       "      <td>0</td>\n",
       "      <td>False</td>\n",
       "      <td>False</td>\n",
       "      <td>False</td>\n",
       "      <td>False</td>\n",
       "      <td>False</td>\n",
       "      <td>...</td>\n",
       "      <td>False</td>\n",
       "      <td>False</td>\n",
       "      <td>False</td>\n",
       "      <td>False</td>\n",
       "      <td>False</td>\n",
       "      <td>False</td>\n",
       "      <td>False</td>\n",
       "      <td>True</td>\n",
       "      <td>False</td>\n",
       "      <td>False</td>\n",
       "    </tr>\n",
       "    <tr>\n",
       "      <th>7642</th>\n",
       "      <td>34</td>\n",
       "      <td>29</td>\n",
       "      <td>751</td>\n",
       "      <td>3</td>\n",
       "      <td>1</td>\n",
       "      <td>False</td>\n",
       "      <td>False</td>\n",
       "      <td>False</td>\n",
       "      <td>False</td>\n",
       "      <td>False</td>\n",
       "      <td>...</td>\n",
       "      <td>False</td>\n",
       "      <td>False</td>\n",
       "      <td>False</td>\n",
       "      <td>False</td>\n",
       "      <td>False</td>\n",
       "      <td>False</td>\n",
       "      <td>True</td>\n",
       "      <td>False</td>\n",
       "      <td>False</td>\n",
       "      <td>False</td>\n",
       "    </tr>\n",
       "  </tbody>\n",
       "</table>\n",
       "<p>7933 rows × 39 columns</p>\n",
       "</div>"
      ],
      "text/plain": [
       "       age  call_day  call_duration  call_frequency  conversion_status  \\\n",
       "7116    33         6            112               2                  0   \n",
       "8294    30        15            808               3                  1   \n",
       "10179   35        29            643               2                  1   \n",
       "8842    61        22            269               1                  1   \n",
       "2766    41        12            147               2                  1   \n",
       "...    ...       ...            ...             ...                ...   \n",
       "603     35        23            141               2                  0   \n",
       "3519    32        28            108               7                  0   \n",
       "3252    29        19             30               1                  1   \n",
       "8746    30        20             51               7                  0   \n",
       "7642    34        29            751               3                  1   \n",
       "\n",
       "       occupation_administrative_staff  occupation_business_owner  \\\n",
       "7116                              True                      False   \n",
       "8294                             False                       True   \n",
       "10179                            False                      False   \n",
       "8842                             False                      False   \n",
       "2766                             False                      False   \n",
       "...                                ...                        ...   \n",
       "603                              False                      False   \n",
       "3519                             False                      False   \n",
       "3252                              True                      False   \n",
       "8746                             False                      False   \n",
       "7642                             False                      False   \n",
       "\n",
       "       occupation_domestic_worker  occupation_executive  \\\n",
       "7116                        False                 False   \n",
       "8294                        False                 False   \n",
       "10179                       False                 False   \n",
       "8842                        False                  True   \n",
       "2766                        False                  True   \n",
       "...                           ...                   ...   \n",
       "603                         False                  True   \n",
       "3519                        False                  True   \n",
       "3252                        False                 False   \n",
       "8746                        False                 False   \n",
       "7642                        False                 False   \n",
       "\n",
       "       occupation_independent_worker  ...  call_month_December  \\\n",
       "7116                           False  ...                False   \n",
       "8294                           False  ...                False   \n",
       "10179                          False  ...                False   \n",
       "8842                           False  ...                False   \n",
       "2766                           False  ...                False   \n",
       "...                              ...  ...                  ...   \n",
       "603                            False  ...                False   \n",
       "3519                           False  ...                False   \n",
       "3252                           False  ...                False   \n",
       "8746                           False  ...                False   \n",
       "7642                           False  ...                False   \n",
       "\n",
       "       call_month_February  call_month_January  call_month_July  \\\n",
       "7116                  True               False            False   \n",
       "8294                 False               False             True   \n",
       "10179                False               False            False   \n",
       "8842                 False               False            False   \n",
       "2766                 False               False            False   \n",
       "...                    ...                 ...              ...   \n",
       "603                   True               False            False   \n",
       "3519                 False               False            False   \n",
       "3252                 False               False            False   \n",
       "8746                 False               False            False   \n",
       "7642                 False               False            False   \n",
       "\n",
       "       call_month_June  call_month_March  call_month_May  call_month_November  \\\n",
       "7116             False             False           False                False   \n",
       "8294             False             False           False                False   \n",
       "10179            False             False           False                False   \n",
       "8842              True             False           False                False   \n",
       "2766             False             False           False                False   \n",
       "...                ...               ...             ...                  ...   \n",
       "603              False             False           False                False   \n",
       "3519             False             False           False                False   \n",
       "3252             False             False            True                False   \n",
       "8746             False             False           False                 True   \n",
       "7642             False             False            True                False   \n",
       "\n",
       "       call_month_October  call_month_September  \n",
       "7116                False                 False  \n",
       "8294                False                 False  \n",
       "10179               False                 False  \n",
       "8842                False                 False  \n",
       "2766                False                 False  \n",
       "...                   ...                   ...  \n",
       "603                 False                 False  \n",
       "3519                False                 False  \n",
       "3252                False                 False  \n",
       "8746                False                 False  \n",
       "7642                False                 False  \n",
       "\n",
       "[7933 rows x 39 columns]"
      ]
     },
     "execution_count": 87,
     "metadata": {},
     "output_type": "execute_result"
    }
   ],
   "source": [
    "X_train , X_test, y_train, y_test = train_test_split(X, y, train_size=0.75, random_state=98)\n",
    "\n",
    "y_train\n",
    "X_train"
   ]
  },
  {
   "cell_type": "code",
   "execution_count": 88,
   "metadata": {
    "colab": {
     "base_uri": "https://localhost:8080/"
    },
    "id": "K3q1LjN5ibLB",
    "outputId": "5245576b-8f26-42a4-9e95-05ae09b4c35d"
   },
   "outputs": [
    {
     "name": "stdout",
     "output_type": "stream",
     "text": [
      "Accuracy: 0.7342155009451796\n"
     ]
    }
   ],
   "source": [
    "from sklearn.svm import SVC\n",
    "from sklearn.metrics import accuracy_score\n",
    "\n",
    "# Assuming X_train, X_test, y_train, y_test are already defined\n",
    "svm_model = SVC(kernel='rbf').fit(X_train, y_train)\n",
    "y_pred = svm_model.predict(X_test)\n",
    "accuracy = accuracy_score(y_test, y_pred)\n",
    "print(\"Accuracy:\", accuracy)\n"
   ]
  },
  {
   "cell_type": "code",
   "execution_count": 89,
   "metadata": {},
   "outputs": [
    {
     "name": "stdout",
     "output_type": "stream",
     "text": [
      "X_train :\n",
      "         age  call_day  call_duration  call_frequency  conversion_status  \\\n",
      "7116    33         6            112               2                  0   \n",
      "8294    30        15            808               3                  1   \n",
      "10179   35        29            643               2                  1   \n",
      "8842    61        22            269               1                  1   \n",
      "2766    41        12            147               2                  1   \n",
      "\n",
      "       occupation_administrative_staff  occupation_business_owner  \\\n",
      "7116                              True                      False   \n",
      "8294                             False                       True   \n",
      "10179                            False                      False   \n",
      "8842                             False                      False   \n",
      "2766                             False                      False   \n",
      "\n",
      "       occupation_domestic_worker  occupation_executive  \\\n",
      "7116                        False                 False   \n",
      "8294                        False                 False   \n",
      "10179                       False                 False   \n",
      "8842                        False                  True   \n",
      "2766                        False                  True   \n",
      "\n",
      "       occupation_independent_worker  ...  call_month_December  \\\n",
      "7116                           False  ...                False   \n",
      "8294                           False  ...                False   \n",
      "10179                          False  ...                False   \n",
      "8842                           False  ...                False   \n",
      "2766                           False  ...                False   \n",
      "\n",
      "       call_month_February  call_month_January  call_month_July  \\\n",
      "7116                  True               False            False   \n",
      "8294                 False               False             True   \n",
      "10179                False               False            False   \n",
      "8842                 False               False            False   \n",
      "2766                 False               False            False   \n",
      "\n",
      "       call_month_June  call_month_March  call_month_May  call_month_November  \\\n",
      "7116             False             False           False                False   \n",
      "8294             False             False           False                False   \n",
      "10179            False             False           False                False   \n",
      "8842              True             False           False                False   \n",
      "2766             False             False           False                False   \n",
      "\n",
      "       call_month_October  call_month_September  \n",
      "7116                False                 False  \n",
      "8294                False                 False  \n",
      "10179               False                 False  \n",
      "8842                False                 False  \n",
      "2766                False                 False  \n",
      "\n",
      "[5 rows x 39 columns]\n",
      "Y_train: \n",
      " [2 2 2 ... 0 2 2]\n"
     ]
    }
   ],
   "source": [
    "print(\"X_train :\\n \",X_train.head())\n",
    "print(\"Y_train: \\n\",y_train)"
   ]
  },
  {
   "cell_type": "code",
   "execution_count": 94,
   "metadata": {
    "colab": {
     "base_uri": "https://localhost:8080/",
     "height": 74
    },
    "id": "AD-dP_B0jP2E",
    "outputId": "42a4d344-2398-48c2-aef0-895e026efc94"
   },
   "outputs": [
    {
     "data": {
      "text/html": [
       "<style>#sk-container-id-3 {\n",
       "  /* Definition of color scheme common for light and dark mode */\n",
       "  --sklearn-color-text: black;\n",
       "  --sklearn-color-line: gray;\n",
       "  /* Definition of color scheme for unfitted estimators */\n",
       "  --sklearn-color-unfitted-level-0: #fff5e6;\n",
       "  --sklearn-color-unfitted-level-1: #f6e4d2;\n",
       "  --sklearn-color-unfitted-level-2: #ffe0b3;\n",
       "  --sklearn-color-unfitted-level-3: chocolate;\n",
       "  /* Definition of color scheme for fitted estimators */\n",
       "  --sklearn-color-fitted-level-0: #f0f8ff;\n",
       "  --sklearn-color-fitted-level-1: #d4ebff;\n",
       "  --sklearn-color-fitted-level-2: #b3dbfd;\n",
       "  --sklearn-color-fitted-level-3: cornflowerblue;\n",
       "\n",
       "  /* Specific color for light theme */\n",
       "  --sklearn-color-text-on-default-background: var(--sg-text-color, var(--theme-code-foreground, var(--jp-content-font-color1, black)));\n",
       "  --sklearn-color-background: var(--sg-background-color, var(--theme-background, var(--jp-layout-color0, white)));\n",
       "  --sklearn-color-border-box: var(--sg-text-color, var(--theme-code-foreground, var(--jp-content-font-color1, black)));\n",
       "  --sklearn-color-icon: #696969;\n",
       "\n",
       "  @media (prefers-color-scheme: dark) {\n",
       "    /* Redefinition of color scheme for dark theme */\n",
       "    --sklearn-color-text-on-default-background: var(--sg-text-color, var(--theme-code-foreground, var(--jp-content-font-color1, white)));\n",
       "    --sklearn-color-background: var(--sg-background-color, var(--theme-background, var(--jp-layout-color0, #111)));\n",
       "    --sklearn-color-border-box: var(--sg-text-color, var(--theme-code-foreground, var(--jp-content-font-color1, white)));\n",
       "    --sklearn-color-icon: #878787;\n",
       "  }\n",
       "}\n",
       "\n",
       "#sk-container-id-3 {\n",
       "  color: var(--sklearn-color-text);\n",
       "}\n",
       "\n",
       "#sk-container-id-3 pre {\n",
       "  padding: 0;\n",
       "}\n",
       "\n",
       "#sk-container-id-3 input.sk-hidden--visually {\n",
       "  border: 0;\n",
       "  clip: rect(1px 1px 1px 1px);\n",
       "  clip: rect(1px, 1px, 1px, 1px);\n",
       "  height: 1px;\n",
       "  margin: -1px;\n",
       "  overflow: hidden;\n",
       "  padding: 0;\n",
       "  position: absolute;\n",
       "  width: 1px;\n",
       "}\n",
       "\n",
       "#sk-container-id-3 div.sk-dashed-wrapped {\n",
       "  border: 1px dashed var(--sklearn-color-line);\n",
       "  margin: 0 0.4em 0.5em 0.4em;\n",
       "  box-sizing: border-box;\n",
       "  padding-bottom: 0.4em;\n",
       "  background-color: var(--sklearn-color-background);\n",
       "}\n",
       "\n",
       "#sk-container-id-3 div.sk-container {\n",
       "  /* jupyter's `normalize.less` sets `[hidden] { display: none; }`\n",
       "     but bootstrap.min.css set `[hidden] { display: none !important; }`\n",
       "     so we also need the `!important` here to be able to override the\n",
       "     default hidden behavior on the sphinx rendered scikit-learn.org.\n",
       "     See: https://github.com/scikit-learn/scikit-learn/issues/21755 */\n",
       "  display: inline-block !important;\n",
       "  position: relative;\n",
       "}\n",
       "\n",
       "#sk-container-id-3 div.sk-text-repr-fallback {\n",
       "  display: none;\n",
       "}\n",
       "\n",
       "div.sk-parallel-item,\n",
       "div.sk-serial,\n",
       "div.sk-item {\n",
       "  /* draw centered vertical line to link estimators */\n",
       "  background-image: linear-gradient(var(--sklearn-color-text-on-default-background), var(--sklearn-color-text-on-default-background));\n",
       "  background-size: 2px 100%;\n",
       "  background-repeat: no-repeat;\n",
       "  background-position: center center;\n",
       "}\n",
       "\n",
       "/* Parallel-specific style estimator block */\n",
       "\n",
       "#sk-container-id-3 div.sk-parallel-item::after {\n",
       "  content: \"\";\n",
       "  width: 100%;\n",
       "  border-bottom: 2px solid var(--sklearn-color-text-on-default-background);\n",
       "  flex-grow: 1;\n",
       "}\n",
       "\n",
       "#sk-container-id-3 div.sk-parallel {\n",
       "  display: flex;\n",
       "  align-items: stretch;\n",
       "  justify-content: center;\n",
       "  background-color: var(--sklearn-color-background);\n",
       "  position: relative;\n",
       "}\n",
       "\n",
       "#sk-container-id-3 div.sk-parallel-item {\n",
       "  display: flex;\n",
       "  flex-direction: column;\n",
       "}\n",
       "\n",
       "#sk-container-id-3 div.sk-parallel-item:first-child::after {\n",
       "  align-self: flex-end;\n",
       "  width: 50%;\n",
       "}\n",
       "\n",
       "#sk-container-id-3 div.sk-parallel-item:last-child::after {\n",
       "  align-self: flex-start;\n",
       "  width: 50%;\n",
       "}\n",
       "\n",
       "#sk-container-id-3 div.sk-parallel-item:only-child::after {\n",
       "  width: 0;\n",
       "}\n",
       "\n",
       "/* Serial-specific style estimator block */\n",
       "\n",
       "#sk-container-id-3 div.sk-serial {\n",
       "  display: flex;\n",
       "  flex-direction: column;\n",
       "  align-items: center;\n",
       "  background-color: var(--sklearn-color-background);\n",
       "  padding-right: 1em;\n",
       "  padding-left: 1em;\n",
       "}\n",
       "\n",
       "\n",
       "/* Toggleable style: style used for estimator/Pipeline/ColumnTransformer box that is\n",
       "clickable and can be expanded/collapsed.\n",
       "- Pipeline and ColumnTransformer use this feature and define the default style\n",
       "- Estimators will overwrite some part of the style using the `sk-estimator` class\n",
       "*/\n",
       "\n",
       "/* Pipeline and ColumnTransformer style (default) */\n",
       "\n",
       "#sk-container-id-3 div.sk-toggleable {\n",
       "  /* Default theme specific background. It is overwritten whether we have a\n",
       "  specific estimator or a Pipeline/ColumnTransformer */\n",
       "  background-color: var(--sklearn-color-background);\n",
       "}\n",
       "\n",
       "/* Toggleable label */\n",
       "#sk-container-id-3 label.sk-toggleable__label {\n",
       "  cursor: pointer;\n",
       "  display: block;\n",
       "  width: 100%;\n",
       "  margin-bottom: 0;\n",
       "  padding: 0.5em;\n",
       "  box-sizing: border-box;\n",
       "  text-align: center;\n",
       "}\n",
       "\n",
       "#sk-container-id-3 label.sk-toggleable__label-arrow:before {\n",
       "  /* Arrow on the left of the label */\n",
       "  content: \"▸\";\n",
       "  float: left;\n",
       "  margin-right: 0.25em;\n",
       "  color: var(--sklearn-color-icon);\n",
       "}\n",
       "\n",
       "#sk-container-id-3 label.sk-toggleable__label-arrow:hover:before {\n",
       "  color: var(--sklearn-color-text);\n",
       "}\n",
       "\n",
       "/* Toggleable content - dropdown */\n",
       "\n",
       "#sk-container-id-3 div.sk-toggleable__content {\n",
       "  max-height: 0;\n",
       "  max-width: 0;\n",
       "  overflow: hidden;\n",
       "  text-align: left;\n",
       "  /* unfitted */\n",
       "  background-color: var(--sklearn-color-unfitted-level-0);\n",
       "}\n",
       "\n",
       "#sk-container-id-3 div.sk-toggleable__content.fitted {\n",
       "  /* fitted */\n",
       "  background-color: var(--sklearn-color-fitted-level-0);\n",
       "}\n",
       "\n",
       "#sk-container-id-3 div.sk-toggleable__content pre {\n",
       "  margin: 0.2em;\n",
       "  border-radius: 0.25em;\n",
       "  color: var(--sklearn-color-text);\n",
       "  /* unfitted */\n",
       "  background-color: var(--sklearn-color-unfitted-level-0);\n",
       "}\n",
       "\n",
       "#sk-container-id-3 div.sk-toggleable__content.fitted pre {\n",
       "  /* unfitted */\n",
       "  background-color: var(--sklearn-color-fitted-level-0);\n",
       "}\n",
       "\n",
       "#sk-container-id-3 input.sk-toggleable__control:checked~div.sk-toggleable__content {\n",
       "  /* Expand drop-down */\n",
       "  max-height: 200px;\n",
       "  max-width: 100%;\n",
       "  overflow: auto;\n",
       "}\n",
       "\n",
       "#sk-container-id-3 input.sk-toggleable__control:checked~label.sk-toggleable__label-arrow:before {\n",
       "  content: \"▾\";\n",
       "}\n",
       "\n",
       "/* Pipeline/ColumnTransformer-specific style */\n",
       "\n",
       "#sk-container-id-3 div.sk-label input.sk-toggleable__control:checked~label.sk-toggleable__label {\n",
       "  color: var(--sklearn-color-text);\n",
       "  background-color: var(--sklearn-color-unfitted-level-2);\n",
       "}\n",
       "\n",
       "#sk-container-id-3 div.sk-label.fitted input.sk-toggleable__control:checked~label.sk-toggleable__label {\n",
       "  background-color: var(--sklearn-color-fitted-level-2);\n",
       "}\n",
       "\n",
       "/* Estimator-specific style */\n",
       "\n",
       "/* Colorize estimator box */\n",
       "#sk-container-id-3 div.sk-estimator input.sk-toggleable__control:checked~label.sk-toggleable__label {\n",
       "  /* unfitted */\n",
       "  background-color: var(--sklearn-color-unfitted-level-2);\n",
       "}\n",
       "\n",
       "#sk-container-id-3 div.sk-estimator.fitted input.sk-toggleable__control:checked~label.sk-toggleable__label {\n",
       "  /* fitted */\n",
       "  background-color: var(--sklearn-color-fitted-level-2);\n",
       "}\n",
       "\n",
       "#sk-container-id-3 div.sk-label label.sk-toggleable__label,\n",
       "#sk-container-id-3 div.sk-label label {\n",
       "  /* The background is the default theme color */\n",
       "  color: var(--sklearn-color-text-on-default-background);\n",
       "}\n",
       "\n",
       "/* On hover, darken the color of the background */\n",
       "#sk-container-id-3 div.sk-label:hover label.sk-toggleable__label {\n",
       "  color: var(--sklearn-color-text);\n",
       "  background-color: var(--sklearn-color-unfitted-level-2);\n",
       "}\n",
       "\n",
       "/* Label box, darken color on hover, fitted */\n",
       "#sk-container-id-3 div.sk-label.fitted:hover label.sk-toggleable__label.fitted {\n",
       "  color: var(--sklearn-color-text);\n",
       "  background-color: var(--sklearn-color-fitted-level-2);\n",
       "}\n",
       "\n",
       "/* Estimator label */\n",
       "\n",
       "#sk-container-id-3 div.sk-label label {\n",
       "  font-family: monospace;\n",
       "  font-weight: bold;\n",
       "  display: inline-block;\n",
       "  line-height: 1.2em;\n",
       "}\n",
       "\n",
       "#sk-container-id-3 div.sk-label-container {\n",
       "  text-align: center;\n",
       "}\n",
       "\n",
       "/* Estimator-specific */\n",
       "#sk-container-id-3 div.sk-estimator {\n",
       "  font-family: monospace;\n",
       "  border: 1px dotted var(--sklearn-color-border-box);\n",
       "  border-radius: 0.25em;\n",
       "  box-sizing: border-box;\n",
       "  margin-bottom: 0.5em;\n",
       "  /* unfitted */\n",
       "  background-color: var(--sklearn-color-unfitted-level-0);\n",
       "}\n",
       "\n",
       "#sk-container-id-3 div.sk-estimator.fitted {\n",
       "  /* fitted */\n",
       "  background-color: var(--sklearn-color-fitted-level-0);\n",
       "}\n",
       "\n",
       "/* on hover */\n",
       "#sk-container-id-3 div.sk-estimator:hover {\n",
       "  /* unfitted */\n",
       "  background-color: var(--sklearn-color-unfitted-level-2);\n",
       "}\n",
       "\n",
       "#sk-container-id-3 div.sk-estimator.fitted:hover {\n",
       "  /* fitted */\n",
       "  background-color: var(--sklearn-color-fitted-level-2);\n",
       "}\n",
       "\n",
       "/* Specification for estimator info (e.g. \"i\" and \"?\") */\n",
       "\n",
       "/* Common style for \"i\" and \"?\" */\n",
       "\n",
       ".sk-estimator-doc-link,\n",
       "a:link.sk-estimator-doc-link,\n",
       "a:visited.sk-estimator-doc-link {\n",
       "  float: right;\n",
       "  font-size: smaller;\n",
       "  line-height: 1em;\n",
       "  font-family: monospace;\n",
       "  background-color: var(--sklearn-color-background);\n",
       "  border-radius: 1em;\n",
       "  height: 1em;\n",
       "  width: 1em;\n",
       "  text-decoration: none !important;\n",
       "  margin-left: 1ex;\n",
       "  /* unfitted */\n",
       "  border: var(--sklearn-color-unfitted-level-1) 1pt solid;\n",
       "  color: var(--sklearn-color-unfitted-level-1);\n",
       "}\n",
       "\n",
       ".sk-estimator-doc-link.fitted,\n",
       "a:link.sk-estimator-doc-link.fitted,\n",
       "a:visited.sk-estimator-doc-link.fitted {\n",
       "  /* fitted */\n",
       "  border: var(--sklearn-color-fitted-level-1) 1pt solid;\n",
       "  color: var(--sklearn-color-fitted-level-1);\n",
       "}\n",
       "\n",
       "/* On hover */\n",
       "div.sk-estimator:hover .sk-estimator-doc-link:hover,\n",
       ".sk-estimator-doc-link:hover,\n",
       "div.sk-label-container:hover .sk-estimator-doc-link:hover,\n",
       ".sk-estimator-doc-link:hover {\n",
       "  /* unfitted */\n",
       "  background-color: var(--sklearn-color-unfitted-level-3);\n",
       "  color: var(--sklearn-color-background);\n",
       "  text-decoration: none;\n",
       "}\n",
       "\n",
       "div.sk-estimator.fitted:hover .sk-estimator-doc-link.fitted:hover,\n",
       ".sk-estimator-doc-link.fitted:hover,\n",
       "div.sk-label-container:hover .sk-estimator-doc-link.fitted:hover,\n",
       ".sk-estimator-doc-link.fitted:hover {\n",
       "  /* fitted */\n",
       "  background-color: var(--sklearn-color-fitted-level-3);\n",
       "  color: var(--sklearn-color-background);\n",
       "  text-decoration: none;\n",
       "}\n",
       "\n",
       "/* Span, style for the box shown on hovering the info icon */\n",
       ".sk-estimator-doc-link span {\n",
       "  display: none;\n",
       "  z-index: 9999;\n",
       "  position: relative;\n",
       "  font-weight: normal;\n",
       "  right: .2ex;\n",
       "  padding: .5ex;\n",
       "  margin: .5ex;\n",
       "  width: min-content;\n",
       "  min-width: 20ex;\n",
       "  max-width: 50ex;\n",
       "  color: var(--sklearn-color-text);\n",
       "  box-shadow: 2pt 2pt 4pt #999;\n",
       "  /* unfitted */\n",
       "  background: var(--sklearn-color-unfitted-level-0);\n",
       "  border: .5pt solid var(--sklearn-color-unfitted-level-3);\n",
       "}\n",
       "\n",
       ".sk-estimator-doc-link.fitted span {\n",
       "  /* fitted */\n",
       "  background: var(--sklearn-color-fitted-level-0);\n",
       "  border: var(--sklearn-color-fitted-level-3);\n",
       "}\n",
       "\n",
       ".sk-estimator-doc-link:hover span {\n",
       "  display: block;\n",
       "}\n",
       "\n",
       "/* \"?\"-specific style due to the `<a>` HTML tag */\n",
       "\n",
       "#sk-container-id-3 a.estimator_doc_link {\n",
       "  float: right;\n",
       "  font-size: 1rem;\n",
       "  line-height: 1em;\n",
       "  font-family: monospace;\n",
       "  background-color: var(--sklearn-color-background);\n",
       "  border-radius: 1rem;\n",
       "  height: 1rem;\n",
       "  width: 1rem;\n",
       "  text-decoration: none;\n",
       "  /* unfitted */\n",
       "  color: var(--sklearn-color-unfitted-level-1);\n",
       "  border: var(--sklearn-color-unfitted-level-1) 1pt solid;\n",
       "}\n",
       "\n",
       "#sk-container-id-3 a.estimator_doc_link.fitted {\n",
       "  /* fitted */\n",
       "  border: var(--sklearn-color-fitted-level-1) 1pt solid;\n",
       "  color: var(--sklearn-color-fitted-level-1);\n",
       "}\n",
       "\n",
       "/* On hover */\n",
       "#sk-container-id-3 a.estimator_doc_link:hover {\n",
       "  /* unfitted */\n",
       "  background-color: var(--sklearn-color-unfitted-level-3);\n",
       "  color: var(--sklearn-color-background);\n",
       "  text-decoration: none;\n",
       "}\n",
       "\n",
       "#sk-container-id-3 a.estimator_doc_link.fitted:hover {\n",
       "  /* fitted */\n",
       "  background-color: var(--sklearn-color-fitted-level-3);\n",
       "}\n",
       "</style><div id=\"sk-container-id-3\" class=\"sk-top-container\"><div class=\"sk-text-repr-fallback\"><pre>SVC(C=10, class_weight=&#x27;balanced&#x27;)</pre><b>In a Jupyter environment, please rerun this cell to show the HTML representation or trust the notebook. <br />On GitHub, the HTML representation is unable to render, please try loading this page with nbviewer.org.</b></div><div class=\"sk-container\" hidden><div class=\"sk-item\"><div class=\"sk-estimator fitted sk-toggleable\"><input class=\"sk-toggleable__control sk-hidden--visually\" id=\"sk-estimator-id-3\" type=\"checkbox\" checked><label for=\"sk-estimator-id-3\" class=\"sk-toggleable__label fitted sk-toggleable__label-arrow fitted\">&nbsp;&nbsp;SVC<a class=\"sk-estimator-doc-link fitted\" rel=\"noreferrer\" target=\"_blank\" href=\"https://scikit-learn.org/1.5/modules/generated/sklearn.svm.SVC.html\">?<span>Documentation for SVC</span></a><span class=\"sk-estimator-doc-link fitted\">i<span>Fitted</span></span></label><div class=\"sk-toggleable__content fitted\"><pre>SVC(C=10, class_weight=&#x27;balanced&#x27;)</pre></div> </div></div></div></div>"
      ],
      "text/plain": [
       "SVC(C=10, class_weight='balanced')"
      ]
     },
     "execution_count": 94,
     "metadata": {},
     "output_type": "execute_result"
    }
   ],
   "source": [
    "\n",
    "\n",
    "svc = SVC(kernel='rbf', C=10, class_weight='balanced')\n",
    "svc.fit(X_train, y_train)\n",
    "\n"
   ]
  },
  {
   "cell_type": "code",
   "execution_count": 91,
   "metadata": {
    "id": "WVxaBzXKiImL"
   },
   "outputs": [],
   "source": [
    "import pickle\n",
    "pickle.dump(svc,open('policy.pkl','wb'))"
   ]
  },
  {
   "cell_type": "code",
   "execution_count": 96,
   "metadata": {},
   "outputs": [],
   "source": [
    "import pickle\n",
    "with open('svm_model.pkl', 'wb') as file:\n",
    "    pickle.dump(svc, file)\n"
   ]
  },
  {
   "cell_type": "code",
   "execution_count": 93,
   "metadata": {},
   "outputs": [
    {
     "data": {
      "text/plain": [
       "Index(['age', 'call_day', 'call_duration', 'call_frequency',\n",
       "       'conversion_status', 'occupation_administrative_staff',\n",
       "       'occupation_business_owner', 'occupation_domestic_worker',\n",
       "       'occupation_executive', 'occupation_independent_worker',\n",
       "       'occupation_jobless', 'occupation_manual_worker',\n",
       "       'occupation_retired_worker', 'occupation_service_worker',\n",
       "       'occupation_student', 'occupation_technical_specialist',\n",
       "       'occupation_unidentified', 'education_level_college',\n",
       "       'education_level_elementary_school', 'education_level_high_school',\n",
       "       'education_level_unidentified', 'marital_status_divorced',\n",
       "       'marital_status_married', 'marital_status_single',\n",
       "       'communication_channel_landline', 'communication_channel_mobile',\n",
       "       'communication_channel_unidentified', 'call_month_April',\n",
       "       'call_month_August', 'call_month_December', 'call_month_February',\n",
       "       'call_month_January', 'call_month_July', 'call_month_June',\n",
       "       'call_month_March', 'call_month_May', 'call_month_November',\n",
       "       'call_month_October', 'call_month_September'],\n",
       "      dtype='object')"
      ]
     },
     "execution_count": 93,
     "metadata": {},
     "output_type": "execute_result"
    }
   ],
   "source": [
    "X_train.columns"
   ]
  },
  {
   "cell_type": "code",
   "execution_count": null,
   "metadata": {},
   "outputs": [],
   "source": []
  }
 ],
 "metadata": {
  "colab": {
   "provenance": []
  },
  "kernelspec": {
   "display_name": "myenv",
   "language": "python",
   "name": "python3"
  },
  "language_info": {
   "codemirror_mode": {
    "name": "ipython",
    "version": 3
   },
   "file_extension": ".py",
   "mimetype": "text/x-python",
   "name": "python",
   "nbconvert_exporter": "python",
   "pygments_lexer": "ipython3",
   "version": "3.11.9"
  }
 },
 "nbformat": 4,
 "nbformat_minor": 0
}
